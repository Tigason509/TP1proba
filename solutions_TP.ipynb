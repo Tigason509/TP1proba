{
 "cells": [
  {
   "cell_type": "markdown",
   "id": "51277db4",
   "metadata": {},
   "source": [
    "# Exemple de résolution du TP 1"
   ]
  },
  {
   "cell_type": "markdown",
   "id": "f7dbaf15",
   "metadata": {},
   "source": [
    "## Problème"
   ]
  },
  {
   "cell_type": "markdown",
   "id": "a5370086",
   "metadata": {},
   "source": [
    "2. Si l’on considère un groupe de 4 personnes, combien y a-t-il de façon de les répartir\n",
    "dans 2 équipes de 2 ?"
   ]
  },
  {
   "cell_type": "markdown",
   "id": "e9f02688",
   "metadata": {},
   "source": [
    "### Produire une solution de 3 manières différentes :\n",
    "\n",
    "1. De manière analytique (en utilisant des formules mathématiques).\n",
    "\n",
    "1. En utilisant une méthode de force brute (en énumérant toutes les combinaisons possibles de manière séquentielle).\n",
    "\n",
    "1. En utilisant une méthode probabiliste (en simulant un grand nombre de combinaisons de 4 lancers de dé de manière aléatoire)."
   ]
  },
  {
   "cell_type": "markdown",
   "id": "ea2d1c0e",
   "metadata": {},
   "source": [
    "### Hint"
   ]
  },
  {
   "cell_type": "markdown",
   "id": "d9526e86",
   "metadata": {},
   "source": [
    "La bibliothèque standard de Python inclus un module très utile pour le dénombrement : [`itertools`](https://docs.python.org/fr/3/library/itertools.html)\n",
    "\n",
    "En particulier les itérateurs combinatoires :\n",
    "\n",
    "* `product()` : produit cartésien, équivalent à une boucle for imbriquée\n",
    "* `permutations()`\n",
    "* `combinations()`\n",
    "* `combinations_with_replacement()`"
   ]
  },
  {
   "cell_type": "markdown",
   "id": "724a2ddc",
   "metadata": {},
   "source": [
    "## Code\n",
    "### Import et configuration"
   ]
  },
  {
   "cell_type": "code",
   "id": "438857a5-c3d7-4ff2-b480-6a8fb48bd033",
   "metadata": {
    "slideshow": {
     "slide_type": "skip"
    },
    "ExecuteTime": {
     "end_time": "2025-09-07T19:18:29.249297Z",
     "start_time": "2025-09-07T19:18:29.246758Z"
    }
   },
   "source": [
    "import itertools\n",
    "\n",
    "import matplotlib.pyplot as plt\n",
    "import numpy as np\n",
    "import pandas as pd\n",
    "import seaborn as sns\n",
    "from scipy.special import comb, factorial as fac"
   ],
   "outputs": [],
   "execution_count": 1
  },
  {
   "cell_type": "code",
   "id": "0d8aa53f",
   "metadata": {
    "ExecuteTime": {
     "end_time": "2025-09-07T19:18:29.258764Z",
     "start_time": "2025-09-07T19:18:29.253983Z"
    }
   },
   "source": [
    "%config InlineBackend.figure_format=\"retina\"  # For high DPI display\n",
    "\n",
    "sns.set_style(\"darkgrid\")\n",
    "sns.set_context(\"notebook\")"
   ],
   "outputs": [],
   "execution_count": 2
  },
  {
   "cell_type": "markdown",
   "id": "cc9bbc71",
   "metadata": {},
   "source": [
    "### Helper functions"
   ]
  },
  {
   "cell_type": "code",
   "id": "bdb4511a",
   "metadata": {
    "ExecuteTime": {
     "end_time": "2025-09-07T19:18:29.266796Z",
     "start_time": "2025-09-07T19:18:29.264340Z"
    }
   },
   "source": [
    "def print_pct(p, prec=1):\n",
    "    print(f\"{p:.{prec}%}\")"
   ],
   "outputs": [],
   "execution_count": 3
  },
  {
   "cell_type": "code",
   "id": "3b6258b3",
   "metadata": {
    "ExecuteTime": {
     "end_time": "2025-09-07T19:18:29.274332Z",
     "start_time": "2025-09-07T19:18:29.272446Z"
    }
   },
   "source": [],
   "outputs": [],
   "execution_count": null
  },
  {
   "cell_type": "markdown",
   "id": "8ee351b4",
   "metadata": {},
   "source": [
    "### Solution 1 (analytique)"
   ]
  },
  {
   "cell_type": "markdown",
   "id": "8bf9c966",
   "metadata": {},
   "source": [
    "$$\\frac{\\displaystyle\\binom{N}{n}}{2!}$$"
   ]
  },
  {
   "cell_type": "code",
   "id": "44477bbd",
   "metadata": {
    "ExecuteTime": {
     "end_time": "2025-09-07T19:18:29.285925Z",
     "start_time": "2025-09-07T19:18:29.280013Z"
    }
   },
   "source": [
    "N = 4\n",
    "n = 2\n",
    "\n",
    "comb(N, n) / fac(2)"
   ],
   "outputs": [
    {
     "data": {
      "text/plain": [
       "np.float64(3.0)"
      ]
     },
     "execution_count": 4,
     "metadata": {},
     "output_type": "execute_result"
    }
   ],
   "execution_count": 4
  },
  {
   "cell_type": "markdown",
   "id": "c77a3384",
   "metadata": {},
   "source": [
    "### Solution 2 (force brute)"
   ]
  },
  {
   "cell_type": "markdown",
   "id": "7da08a82",
   "metadata": {},
   "source": [
    "#### Définition des dès"
   ]
  },
  {
   "cell_type": "code",
   "id": "6cff7e6e",
   "metadata": {
    "ExecuteTime": {
     "end_time": "2025-09-07T19:18:29.306529Z",
     "start_time": "2025-09-07T19:18:29.302458Z"
    }
   },
   "source": [
    "PEOPLE = list(\"ABCD\")\n",
    "PEOPLE"
   ],
   "outputs": [
    {
     "data": {
      "text/plain": [
       "['A', 'B', 'C', 'D']"
      ]
     },
     "execution_count": 5,
     "metadata": {},
     "output_type": "execute_result"
    }
   ],
   "execution_count": 5
  },
  {
   "cell_type": "code",
   "id": "2b27a077",
   "metadata": {
    "ExecuteTime": {
     "end_time": "2025-09-07T19:18:29.335730Z",
     "start_time": "2025-09-07T19:18:29.325101Z"
    }
   },
   "source": [
    "people_df = pd.DataFrame(itertools.permutations(PEOPLE, 4))\n",
    "people_df.columns = people_df.columns + 1\n",
    "# df.columns = [f\"p{i}\" for i in df.columns + 1]\n",
    "people_df"
   ],
   "outputs": [
    {
     "data": {
      "text/plain": [
       "    1  2  3  4\n",
       "0   A  B  C  D\n",
       "1   A  B  D  C\n",
       "2   A  C  B  D\n",
       "3   A  C  D  B\n",
       "4   A  D  B  C\n",
       "5   A  D  C  B\n",
       "6   B  A  C  D\n",
       "7   B  A  D  C\n",
       "8   B  C  A  D\n",
       "9   B  C  D  A\n",
       "10  B  D  A  C\n",
       "11  B  D  C  A\n",
       "12  C  A  B  D\n",
       "13  C  A  D  B\n",
       "14  C  B  A  D\n",
       "15  C  B  D  A\n",
       "16  C  D  A  B\n",
       "17  C  D  B  A\n",
       "18  D  A  B  C\n",
       "19  D  A  C  B\n",
       "20  D  B  A  C\n",
       "21  D  B  C  A\n",
       "22  D  C  A  B\n",
       "23  D  C  B  A"
      ],
      "text/html": [
       "<div>\n",
       "<style scoped>\n",
       "    .dataframe tbody tr th:only-of-type {\n",
       "        vertical-align: middle;\n",
       "    }\n",
       "\n",
       "    .dataframe tbody tr th {\n",
       "        vertical-align: top;\n",
       "    }\n",
       "\n",
       "    .dataframe thead th {\n",
       "        text-align: right;\n",
       "    }\n",
       "</style>\n",
       "<table border=\"1\" class=\"dataframe\">\n",
       "  <thead>\n",
       "    <tr style=\"text-align: right;\">\n",
       "      <th></th>\n",
       "      <th>1</th>\n",
       "      <th>2</th>\n",
       "      <th>3</th>\n",
       "      <th>4</th>\n",
       "    </tr>\n",
       "  </thead>\n",
       "  <tbody>\n",
       "    <tr>\n",
       "      <th>0</th>\n",
       "      <td>A</td>\n",
       "      <td>B</td>\n",
       "      <td>C</td>\n",
       "      <td>D</td>\n",
       "    </tr>\n",
       "    <tr>\n",
       "      <th>1</th>\n",
       "      <td>A</td>\n",
       "      <td>B</td>\n",
       "      <td>D</td>\n",
       "      <td>C</td>\n",
       "    </tr>\n",
       "    <tr>\n",
       "      <th>2</th>\n",
       "      <td>A</td>\n",
       "      <td>C</td>\n",
       "      <td>B</td>\n",
       "      <td>D</td>\n",
       "    </tr>\n",
       "    <tr>\n",
       "      <th>3</th>\n",
       "      <td>A</td>\n",
       "      <td>C</td>\n",
       "      <td>D</td>\n",
       "      <td>B</td>\n",
       "    </tr>\n",
       "    <tr>\n",
       "      <th>4</th>\n",
       "      <td>A</td>\n",
       "      <td>D</td>\n",
       "      <td>B</td>\n",
       "      <td>C</td>\n",
       "    </tr>\n",
       "    <tr>\n",
       "      <th>5</th>\n",
       "      <td>A</td>\n",
       "      <td>D</td>\n",
       "      <td>C</td>\n",
       "      <td>B</td>\n",
       "    </tr>\n",
       "    <tr>\n",
       "      <th>6</th>\n",
       "      <td>B</td>\n",
       "      <td>A</td>\n",
       "      <td>C</td>\n",
       "      <td>D</td>\n",
       "    </tr>\n",
       "    <tr>\n",
       "      <th>7</th>\n",
       "      <td>B</td>\n",
       "      <td>A</td>\n",
       "      <td>D</td>\n",
       "      <td>C</td>\n",
       "    </tr>\n",
       "    <tr>\n",
       "      <th>8</th>\n",
       "      <td>B</td>\n",
       "      <td>C</td>\n",
       "      <td>A</td>\n",
       "      <td>D</td>\n",
       "    </tr>\n",
       "    <tr>\n",
       "      <th>9</th>\n",
       "      <td>B</td>\n",
       "      <td>C</td>\n",
       "      <td>D</td>\n",
       "      <td>A</td>\n",
       "    </tr>\n",
       "    <tr>\n",
       "      <th>10</th>\n",
       "      <td>B</td>\n",
       "      <td>D</td>\n",
       "      <td>A</td>\n",
       "      <td>C</td>\n",
       "    </tr>\n",
       "    <tr>\n",
       "      <th>11</th>\n",
       "      <td>B</td>\n",
       "      <td>D</td>\n",
       "      <td>C</td>\n",
       "      <td>A</td>\n",
       "    </tr>\n",
       "    <tr>\n",
       "      <th>12</th>\n",
       "      <td>C</td>\n",
       "      <td>A</td>\n",
       "      <td>B</td>\n",
       "      <td>D</td>\n",
       "    </tr>\n",
       "    <tr>\n",
       "      <th>13</th>\n",
       "      <td>C</td>\n",
       "      <td>A</td>\n",
       "      <td>D</td>\n",
       "      <td>B</td>\n",
       "    </tr>\n",
       "    <tr>\n",
       "      <th>14</th>\n",
       "      <td>C</td>\n",
       "      <td>B</td>\n",
       "      <td>A</td>\n",
       "      <td>D</td>\n",
       "    </tr>\n",
       "    <tr>\n",
       "      <th>15</th>\n",
       "      <td>C</td>\n",
       "      <td>B</td>\n",
       "      <td>D</td>\n",
       "      <td>A</td>\n",
       "    </tr>\n",
       "    <tr>\n",
       "      <th>16</th>\n",
       "      <td>C</td>\n",
       "      <td>D</td>\n",
       "      <td>A</td>\n",
       "      <td>B</td>\n",
       "    </tr>\n",
       "    <tr>\n",
       "      <th>17</th>\n",
       "      <td>C</td>\n",
       "      <td>D</td>\n",
       "      <td>B</td>\n",
       "      <td>A</td>\n",
       "    </tr>\n",
       "    <tr>\n",
       "      <th>18</th>\n",
       "      <td>D</td>\n",
       "      <td>A</td>\n",
       "      <td>B</td>\n",
       "      <td>C</td>\n",
       "    </tr>\n",
       "    <tr>\n",
       "      <th>19</th>\n",
       "      <td>D</td>\n",
       "      <td>A</td>\n",
       "      <td>C</td>\n",
       "      <td>B</td>\n",
       "    </tr>\n",
       "    <tr>\n",
       "      <th>20</th>\n",
       "      <td>D</td>\n",
       "      <td>B</td>\n",
       "      <td>A</td>\n",
       "      <td>C</td>\n",
       "    </tr>\n",
       "    <tr>\n",
       "      <th>21</th>\n",
       "      <td>D</td>\n",
       "      <td>B</td>\n",
       "      <td>C</td>\n",
       "      <td>A</td>\n",
       "    </tr>\n",
       "    <tr>\n",
       "      <th>22</th>\n",
       "      <td>D</td>\n",
       "      <td>C</td>\n",
       "      <td>A</td>\n",
       "      <td>B</td>\n",
       "    </tr>\n",
       "    <tr>\n",
       "      <th>23</th>\n",
       "      <td>D</td>\n",
       "      <td>C</td>\n",
       "      <td>B</td>\n",
       "      <td>A</td>\n",
       "    </tr>\n",
       "  </tbody>\n",
       "</table>\n",
       "</div>"
      ]
     },
     "execution_count": 6,
     "metadata": {},
     "output_type": "execute_result"
    }
   ],
   "execution_count": 6
  },
  {
   "cell_type": "code",
   "id": "6a0829b4",
   "metadata": {
    "ExecuteTime": {
     "end_time": "2025-09-07T19:18:29.401733Z",
     "start_time": "2025-09-07T19:18:29.386034Z"
    }
   },
   "source": [
    "people_df[\"g1\"] = people_df.loc[:, 1:2].apply(frozenset, axis=1)\n",
    "people_df[\"g2\"] = people_df.loc[:, 3:4].apply(frozenset, axis=1)\n",
    "people_df.drop(columns=range(1, 5), inplace=True)\n",
    "people_df"
   ],
   "outputs": [
    {
     "data": {
      "text/plain": [
       "        g1      g2\n",
       "0   (B, A)  (C, D)\n",
       "1   (B, A)  (C, D)\n",
       "2   (C, A)  (D, B)\n",
       "3   (C, A)  (D, B)\n",
       "4   (D, A)  (C, B)\n",
       "5   (D, A)  (C, B)\n",
       "6   (B, A)  (C, D)\n",
       "7   (B, A)  (C, D)\n",
       "8   (C, B)  (D, A)\n",
       "9   (C, B)  (D, A)\n",
       "10  (D, B)  (C, A)\n",
       "11  (D, B)  (C, A)\n",
       "12  (C, A)  (D, B)\n",
       "13  (C, A)  (D, B)\n",
       "14  (C, B)  (D, A)\n",
       "15  (C, B)  (D, A)\n",
       "16  (C, D)  (B, A)\n",
       "17  (C, D)  (B, A)\n",
       "18  (D, A)  (C, B)\n",
       "19  (D, A)  (C, B)\n",
       "20  (D, B)  (C, A)\n",
       "21  (D, B)  (C, A)\n",
       "22  (C, D)  (B, A)\n",
       "23  (C, D)  (B, A)"
      ],
      "text/html": [
       "<div>\n",
       "<style scoped>\n",
       "    .dataframe tbody tr th:only-of-type {\n",
       "        vertical-align: middle;\n",
       "    }\n",
       "\n",
       "    .dataframe tbody tr th {\n",
       "        vertical-align: top;\n",
       "    }\n",
       "\n",
       "    .dataframe thead th {\n",
       "        text-align: right;\n",
       "    }\n",
       "</style>\n",
       "<table border=\"1\" class=\"dataframe\">\n",
       "  <thead>\n",
       "    <tr style=\"text-align: right;\">\n",
       "      <th></th>\n",
       "      <th>g1</th>\n",
       "      <th>g2</th>\n",
       "    </tr>\n",
       "  </thead>\n",
       "  <tbody>\n",
       "    <tr>\n",
       "      <th>0</th>\n",
       "      <td>(B, A)</td>\n",
       "      <td>(C, D)</td>\n",
       "    </tr>\n",
       "    <tr>\n",
       "      <th>1</th>\n",
       "      <td>(B, A)</td>\n",
       "      <td>(C, D)</td>\n",
       "    </tr>\n",
       "    <tr>\n",
       "      <th>2</th>\n",
       "      <td>(C, A)</td>\n",
       "      <td>(D, B)</td>\n",
       "    </tr>\n",
       "    <tr>\n",
       "      <th>3</th>\n",
       "      <td>(C, A)</td>\n",
       "      <td>(D, B)</td>\n",
       "    </tr>\n",
       "    <tr>\n",
       "      <th>4</th>\n",
       "      <td>(D, A)</td>\n",
       "      <td>(C, B)</td>\n",
       "    </tr>\n",
       "    <tr>\n",
       "      <th>5</th>\n",
       "      <td>(D, A)</td>\n",
       "      <td>(C, B)</td>\n",
       "    </tr>\n",
       "    <tr>\n",
       "      <th>6</th>\n",
       "      <td>(B, A)</td>\n",
       "      <td>(C, D)</td>\n",
       "    </tr>\n",
       "    <tr>\n",
       "      <th>7</th>\n",
       "      <td>(B, A)</td>\n",
       "      <td>(C, D)</td>\n",
       "    </tr>\n",
       "    <tr>\n",
       "      <th>8</th>\n",
       "      <td>(C, B)</td>\n",
       "      <td>(D, A)</td>\n",
       "    </tr>\n",
       "    <tr>\n",
       "      <th>9</th>\n",
       "      <td>(C, B)</td>\n",
       "      <td>(D, A)</td>\n",
       "    </tr>\n",
       "    <tr>\n",
       "      <th>10</th>\n",
       "      <td>(D, B)</td>\n",
       "      <td>(C, A)</td>\n",
       "    </tr>\n",
       "    <tr>\n",
       "      <th>11</th>\n",
       "      <td>(D, B)</td>\n",
       "      <td>(C, A)</td>\n",
       "    </tr>\n",
       "    <tr>\n",
       "      <th>12</th>\n",
       "      <td>(C, A)</td>\n",
       "      <td>(D, B)</td>\n",
       "    </tr>\n",
       "    <tr>\n",
       "      <th>13</th>\n",
       "      <td>(C, A)</td>\n",
       "      <td>(D, B)</td>\n",
       "    </tr>\n",
       "    <tr>\n",
       "      <th>14</th>\n",
       "      <td>(C, B)</td>\n",
       "      <td>(D, A)</td>\n",
       "    </tr>\n",
       "    <tr>\n",
       "      <th>15</th>\n",
       "      <td>(C, B)</td>\n",
       "      <td>(D, A)</td>\n",
       "    </tr>\n",
       "    <tr>\n",
       "      <th>16</th>\n",
       "      <td>(C, D)</td>\n",
       "      <td>(B, A)</td>\n",
       "    </tr>\n",
       "    <tr>\n",
       "      <th>17</th>\n",
       "      <td>(C, D)</td>\n",
       "      <td>(B, A)</td>\n",
       "    </tr>\n",
       "    <tr>\n",
       "      <th>18</th>\n",
       "      <td>(D, A)</td>\n",
       "      <td>(C, B)</td>\n",
       "    </tr>\n",
       "    <tr>\n",
       "      <th>19</th>\n",
       "      <td>(D, A)</td>\n",
       "      <td>(C, B)</td>\n",
       "    </tr>\n",
       "    <tr>\n",
       "      <th>20</th>\n",
       "      <td>(D, B)</td>\n",
       "      <td>(C, A)</td>\n",
       "    </tr>\n",
       "    <tr>\n",
       "      <th>21</th>\n",
       "      <td>(D, B)</td>\n",
       "      <td>(C, A)</td>\n",
       "    </tr>\n",
       "    <tr>\n",
       "      <th>22</th>\n",
       "      <td>(C, D)</td>\n",
       "      <td>(B, A)</td>\n",
       "    </tr>\n",
       "    <tr>\n",
       "      <th>23</th>\n",
       "      <td>(C, D)</td>\n",
       "      <td>(B, A)</td>\n",
       "    </tr>\n",
       "  </tbody>\n",
       "</table>\n",
       "</div>"
      ]
     },
     "execution_count": 7,
     "metadata": {},
     "output_type": "execute_result"
    }
   ],
   "execution_count": 7
  },
  {
   "cell_type": "code",
   "id": "45a45ce2",
   "metadata": {
    "ExecuteTime": {
     "end_time": "2025-09-07T19:18:29.565838Z",
     "start_time": "2025-09-07T19:18:29.557379Z"
    }
   },
   "source": [
    "people_df.drop_duplicates(inplace=True)\n",
    "people_df"
   ],
   "outputs": [
    {
     "data": {
      "text/plain": [
       "        g1      g2\n",
       "0   (B, A)  (C, D)\n",
       "2   (C, A)  (D, B)\n",
       "4   (D, A)  (C, B)\n",
       "8   (C, B)  (D, A)\n",
       "10  (D, B)  (C, A)\n",
       "16  (C, D)  (B, A)"
      ],
      "text/html": [
       "<div>\n",
       "<style scoped>\n",
       "    .dataframe tbody tr th:only-of-type {\n",
       "        vertical-align: middle;\n",
       "    }\n",
       "\n",
       "    .dataframe tbody tr th {\n",
       "        vertical-align: top;\n",
       "    }\n",
       "\n",
       "    .dataframe thead th {\n",
       "        text-align: right;\n",
       "    }\n",
       "</style>\n",
       "<table border=\"1\" class=\"dataframe\">\n",
       "  <thead>\n",
       "    <tr style=\"text-align: right;\">\n",
       "      <th></th>\n",
       "      <th>g1</th>\n",
       "      <th>g2</th>\n",
       "    </tr>\n",
       "  </thead>\n",
       "  <tbody>\n",
       "    <tr>\n",
       "      <th>0</th>\n",
       "      <td>(B, A)</td>\n",
       "      <td>(C, D)</td>\n",
       "    </tr>\n",
       "    <tr>\n",
       "      <th>2</th>\n",
       "      <td>(C, A)</td>\n",
       "      <td>(D, B)</td>\n",
       "    </tr>\n",
       "    <tr>\n",
       "      <th>4</th>\n",
       "      <td>(D, A)</td>\n",
       "      <td>(C, B)</td>\n",
       "    </tr>\n",
       "    <tr>\n",
       "      <th>8</th>\n",
       "      <td>(C, B)</td>\n",
       "      <td>(D, A)</td>\n",
       "    </tr>\n",
       "    <tr>\n",
       "      <th>10</th>\n",
       "      <td>(D, B)</td>\n",
       "      <td>(C, A)</td>\n",
       "    </tr>\n",
       "    <tr>\n",
       "      <th>16</th>\n",
       "      <td>(C, D)</td>\n",
       "      <td>(B, A)</td>\n",
       "    </tr>\n",
       "  </tbody>\n",
       "</table>\n",
       "</div>"
      ]
     },
     "execution_count": 8,
     "metadata": {},
     "output_type": "execute_result"
    }
   ],
   "execution_count": 8
  },
  {
   "cell_type": "code",
   "id": "6ae26aee",
   "metadata": {
    "ExecuteTime": {
     "end_time": "2025-09-07T19:18:29.660830Z",
     "start_time": "2025-09-07T19:18:29.654138Z"
    }
   },
   "source": [
    "groups = people_df.apply(frozenset, axis=1)\n",
    "groups"
   ],
   "outputs": [
    {
     "data": {
      "text/plain": [
       "0     ((B, A), (C, D))\n",
       "2     ((C, A), (D, B))\n",
       "4     ((C, B), (D, A))\n",
       "8     ((C, B), (D, A))\n",
       "10    ((C, A), (D, B))\n",
       "16    ((B, A), (C, D))\n",
       "dtype: object"
      ]
     },
     "execution_count": 9,
     "metadata": {},
     "output_type": "execute_result"
    }
   ],
   "execution_count": 9
  },
  {
   "cell_type": "code",
   "id": "7fc50571",
   "metadata": {
    "ExecuteTime": {
     "end_time": "2025-09-07T19:18:29.786728Z",
     "start_time": "2025-09-07T19:18:29.781146Z"
    }
   },
   "source": [
    "groups.drop_duplicates(inplace=True)\n",
    "groups"
   ],
   "outputs": [
    {
     "data": {
      "text/plain": [
       "0    ((B, A), (C, D))\n",
       "2    ((C, A), (D, B))\n",
       "4    ((C, B), (D, A))\n",
       "dtype: object"
      ]
     },
     "execution_count": 10,
     "metadata": {},
     "output_type": "execute_result"
    }
   ],
   "execution_count": 10
  },
  {
   "cell_type": "code",
   "id": "e8e5c413",
   "metadata": {
    "ExecuteTime": {
     "end_time": "2025-09-07T19:18:29.954114Z",
     "start_time": "2025-09-07T19:18:29.950444Z"
    }
   },
   "source": [
    "def make_equal_groups(df: pd.DataFrame, group_n: int):\n",
    "    df.columns = df.columns + 1\n",
    "    people_n = len(df.columns)\n",
    "    df[\"g1\"] = df.loc[:, 1:group_n].apply(frozenset, axis=1)\n",
    "    df[\"g2\"] = df.loc[:, group_n + 1:people_n].apply(frozenset, axis=1)\n",
    "    df.drop(columns=range(1, people_n + 1), inplace=True)\n",
    "    df.drop_duplicates(inplace=True)\n",
    "    groups = df.apply(frozenset, axis=1)\n",
    "    groups.drop_duplicates(inplace=True)\n",
    "    return groups.reset_index(drop=True)"
   ],
   "outputs": [],
   "execution_count": 11
  },
  {
   "cell_type": "code",
   "id": "eddba9f2",
   "metadata": {
    "ExecuteTime": {
     "end_time": "2025-09-07T19:18:30.003931Z",
     "start_time": "2025-09-07T19:18:29.995129Z"
    }
   },
   "source": [
    "ppl_df = pd.DataFrame(itertools.permutations(PEOPLE, 4))\n",
    "\n",
    "make_equal_groups(ppl_df, group_n=2)"
   ],
   "outputs": [
    {
     "data": {
      "text/plain": [
       "0    ((B, A), (C, D))\n",
       "1    ((C, A), (D, B))\n",
       "2    ((C, B), (D, A))\n",
       "dtype: object"
      ]
     },
     "execution_count": 12,
     "metadata": {},
     "output_type": "execute_result"
    }
   ],
   "execution_count": 12
  },
  {
   "cell_type": "markdown",
   "id": "5c3714be",
   "metadata": {},
   "source": [
    "---"
   ]
  },
  {
   "cell_type": "markdown",
   "id": "d4796ee4-ac19-40fa-9d41-f2df7420b290",
   "metadata": {},
   "source": [
    "### Solution 3 (probabiliste)"
   ]
  },
  {
   "cell_type": "markdown",
   "id": "8a30ae3c",
   "metadata": {},
   "source": [
    "La bibliothèque open source NumPy est destinée à manipuler des matrices ou tableaux multidimensionnels.\n",
    "Elle propose également de nombreuses fonctions mathématiques et notemment des outils pour générer et manipuler des variables aléatoires.\n",
    "\n",
    "Les versions récentes de NumPy favorise l'utilisation du générateur aléatoire par défaut comme expliqué dans le lien ci-dessous :\n",
    "\n",
    "https://numpy.org/doc/stable/reference/random/generator.html\n",
    "\n",
    "TLDR : \n",
    "```python\n",
    "rng = np.random.default_rng(seed)\n",
    "rng.integers()\n",
    "# ou\n",
    "rng.random()\n",
    "# ou\n",
    "rng.permutation()\n",
    "# ...\n",
    "```"
   ]
  },
  {
   "cell_type": "code",
   "id": "43125764-6652-4342-afe2-4524f211cc4e",
   "metadata": {
    "ExecuteTime": {
     "end_time": "2025-09-07T19:18:30.054382Z",
     "start_time": "2025-09-07T19:18:30.051062Z"
    }
   },
   "source": [
    "SEED = 1234  # Pour la reproductibilité des résultats (valeur arbitraire)\n",
    "\n",
    "RNG = np.random.default_rng(SEED)"
   ],
   "outputs": [],
   "execution_count": 13
  },
  {
   "cell_type": "code",
   "id": "10290112",
   "metadata": {
    "ExecuteTime": {
     "end_time": "2025-09-07T19:18:30.137941Z",
     "start_time": "2025-09-07T19:18:30.134678Z"
    }
   },
   "source": [
    "def rdm_permutation(rng, people):\n",
    "    return rng.permutation(people).tolist()"
   ],
   "outputs": [],
   "execution_count": 14
  },
  {
   "cell_type": "code",
   "id": "9cde7394",
   "metadata": {
    "ExecuteTime": {
     "end_time": "2025-09-07T19:18:30.181119Z",
     "start_time": "2025-09-07T19:18:30.177001Z"
    }
   },
   "source": [
    "rdm_permutation(RNG, PEOPLE)"
   ],
   "outputs": [
    {
     "data": {
      "text/plain": [
       "['A', 'D', 'B', 'C']"
      ]
     },
     "execution_count": 15,
     "metadata": {},
     "output_type": "execute_result"
    }
   ],
   "execution_count": 15
  },
  {
   "cell_type": "code",
   "id": "5109e7ac",
   "metadata": {
    "ExecuteTime": {
     "end_time": "2025-09-07T19:18:30.206357Z",
     "start_time": "2025-09-07T19:18:30.203033Z"
    }
   },
   "source": [
    "def rdm_perm_sim(rng, people, perm_n):\n",
    "    return [rdm_permutation(rng, people) for _ in range(perm_n)]"
   ],
   "outputs": [],
   "execution_count": 16
  },
  {
   "cell_type": "code",
   "id": "674fbdbe",
   "metadata": {
    "ExecuteTime": {
     "end_time": "2025-09-07T19:18:30.245135Z",
     "start_time": "2025-09-07T19:18:30.233477Z"
    }
   },
   "source": [
    "SIM_N = 100\n",
    "groups_sim_df = pd.DataFrame(rdm_perm_sim(RNG, PEOPLE, SIM_N))\n",
    "groups_sim_df"
   ],
   "outputs": [
    {
     "data": {
      "text/plain": [
       "    0  1  2  3\n",
       "0   B  C  D  A\n",
       "1   B  D  A  C\n",
       "2   A  B  D  C\n",
       "3   B  D  A  C\n",
       "4   B  A  C  D\n",
       ".. .. .. .. ..\n",
       "95  A  C  D  B\n",
       "96  D  C  A  B\n",
       "97  B  A  D  C\n",
       "98  A  C  B  D\n",
       "99  D  B  A  C\n",
       "\n",
       "[100 rows x 4 columns]"
      ],
      "text/html": [
       "<div>\n",
       "<style scoped>\n",
       "    .dataframe tbody tr th:only-of-type {\n",
       "        vertical-align: middle;\n",
       "    }\n",
       "\n",
       "    .dataframe tbody tr th {\n",
       "        vertical-align: top;\n",
       "    }\n",
       "\n",
       "    .dataframe thead th {\n",
       "        text-align: right;\n",
       "    }\n",
       "</style>\n",
       "<table border=\"1\" class=\"dataframe\">\n",
       "  <thead>\n",
       "    <tr style=\"text-align: right;\">\n",
       "      <th></th>\n",
       "      <th>0</th>\n",
       "      <th>1</th>\n",
       "      <th>2</th>\n",
       "      <th>3</th>\n",
       "    </tr>\n",
       "  </thead>\n",
       "  <tbody>\n",
       "    <tr>\n",
       "      <th>0</th>\n",
       "      <td>B</td>\n",
       "      <td>C</td>\n",
       "      <td>D</td>\n",
       "      <td>A</td>\n",
       "    </tr>\n",
       "    <tr>\n",
       "      <th>1</th>\n",
       "      <td>B</td>\n",
       "      <td>D</td>\n",
       "      <td>A</td>\n",
       "      <td>C</td>\n",
       "    </tr>\n",
       "    <tr>\n",
       "      <th>2</th>\n",
       "      <td>A</td>\n",
       "      <td>B</td>\n",
       "      <td>D</td>\n",
       "      <td>C</td>\n",
       "    </tr>\n",
       "    <tr>\n",
       "      <th>3</th>\n",
       "      <td>B</td>\n",
       "      <td>D</td>\n",
       "      <td>A</td>\n",
       "      <td>C</td>\n",
       "    </tr>\n",
       "    <tr>\n",
       "      <th>4</th>\n",
       "      <td>B</td>\n",
       "      <td>A</td>\n",
       "      <td>C</td>\n",
       "      <td>D</td>\n",
       "    </tr>\n",
       "    <tr>\n",
       "      <th>...</th>\n",
       "      <td>...</td>\n",
       "      <td>...</td>\n",
       "      <td>...</td>\n",
       "      <td>...</td>\n",
       "    </tr>\n",
       "    <tr>\n",
       "      <th>95</th>\n",
       "      <td>A</td>\n",
       "      <td>C</td>\n",
       "      <td>D</td>\n",
       "      <td>B</td>\n",
       "    </tr>\n",
       "    <tr>\n",
       "      <th>96</th>\n",
       "      <td>D</td>\n",
       "      <td>C</td>\n",
       "      <td>A</td>\n",
       "      <td>B</td>\n",
       "    </tr>\n",
       "    <tr>\n",
       "      <th>97</th>\n",
       "      <td>B</td>\n",
       "      <td>A</td>\n",
       "      <td>D</td>\n",
       "      <td>C</td>\n",
       "    </tr>\n",
       "    <tr>\n",
       "      <th>98</th>\n",
       "      <td>A</td>\n",
       "      <td>C</td>\n",
       "      <td>B</td>\n",
       "      <td>D</td>\n",
       "    </tr>\n",
       "    <tr>\n",
       "      <th>99</th>\n",
       "      <td>D</td>\n",
       "      <td>B</td>\n",
       "      <td>A</td>\n",
       "      <td>C</td>\n",
       "    </tr>\n",
       "  </tbody>\n",
       "</table>\n",
       "<p>100 rows × 4 columns</p>\n",
       "</div>"
      ]
     },
     "execution_count": 17,
     "metadata": {},
     "output_type": "execute_result"
    }
   ],
   "execution_count": 17
  },
  {
   "cell_type": "code",
   "id": "51f6c1ee",
   "metadata": {
    "ExecuteTime": {
     "end_time": "2025-09-07T19:18:30.352120Z",
     "start_time": "2025-09-07T19:18:30.342024Z"
    }
   },
   "source": [
    "make_equal_groups(groups_sim_df, group_n=2)"
   ],
   "outputs": [
    {
     "data": {
      "text/plain": [
       "0    ((C, B), (D, A))\n",
       "1    ((C, A), (D, B))\n",
       "2    ((B, A), (C, D))\n",
       "dtype: object"
      ]
     },
     "execution_count": 18,
     "metadata": {},
     "output_type": "execute_result"
    }
   ],
   "execution_count": 18
  },
  {
   "cell_type": "markdown",
   "id": "f1dd4dd3",
   "metadata": {},
   "source": [
    "### (Optionnel) Visualisation de la distribution\n",
    "\n",
    "Distribution des sommes des lancers des 4 dés"
   ]
  },
  {
   "cell_type": "code",
   "id": "1dfa5c16",
   "metadata": {
    "ExecuteTime": {
     "end_time": "2025-09-07T19:18:30.506600Z",
     "start_time": "2025-09-07T19:18:30.504144Z"
    }
   },
   "source": [
    "# sns.histplot(rolls_sim_df, x=\"sums\", discrete=True, stat=\"probability\")\n",
    "# plt.show()"
   ],
   "outputs": [],
   "execution_count": 19
  },
  {
   "cell_type": "markdown",
   "id": "e47ae023",
   "metadata": {},
   "source": [
    "TD 1 Analytique"
   ]
  },
  {
   "cell_type": "code",
   "id": "ff7aef69",
   "metadata": {
    "ExecuteTime": {
     "end_time": "2025-09-07T19:18:30.562254Z",
     "start_time": "2025-09-07T19:18:30.558711Z"
    }
   },
   "source": [
    "N = 50\n",
    "n= 3\n",
    "somme = 1\n",
    "\n",
    "for i in range (n) :\n",
    "    #question b\n",
    "    somme = somme *(N-i)\n",
    "print(somme,\"combinaisons possibles pour 3 roles différents 50 pers\")\n",
    "#/** question a **/\n",
    "somme/=fac(n)\n",
    "print(somme,\"combinaisons possibles\")"
   ],
   "outputs": [
    {
     "name": "stdout",
     "output_type": "stream",
     "text": [
      "117600 combinaisons possibles pour 3 roles différents 50 pers\n",
      "19600.0 combinaisons possibles\n"
     ]
    }
   ],
   "execution_count": 20
  },
  {
   "cell_type": "markdown",
   "id": "aa631c65",
   "metadata": {},
   "source": [
    "$$\\frac{\\displaystyle\\binom{N}{n}}{2!}$$"
   ]
  },
  {
   "cell_type": "markdown",
   "id": "e6c26d99",
   "metadata": {},
   "source": [
    "Solution 1 (analytique) de la 6) a"
   ]
  },
  {
   "cell_type": "code",
   "id": "01a8c5f3",
   "metadata": {
    "ExecuteTime": {
     "end_time": "2025-09-07T19:18:30.623543Z",
     "start_time": "2025-09-07T19:18:30.619378Z"
    }
   },
   "source": [
    "import math\n",
    "\n",
    "Nombre_de_cartes = 52\n",
    "cartes_distribués = 2\n",
    "nombre_as = 4\n",
    "nombre_val10 = 16\n",
    "combinaisons = math.comb(Nombre_de_cartes, cartes_distribués)\n",
    "combi_de21 = nombre_as * nombre_val10\n",
    "print(combi_de21 / combinaisons)\n",
    "def gagner_direct() :\n",
    "   return combi_de21 / combinaisons\n",
    "\n"
   ],
   "outputs": [
    {
     "name": "stdout",
     "output_type": "stream",
     "text": [
      "0.048265460030165915\n"
     ]
    }
   ],
   "execution_count": 21
  },
  {
   "cell_type": "markdown",
   "id": "75ed1f83-c6f6-4eae-815a-b218e29a5eb2",
   "metadata": {},
   "source": [
    "---"
   ]
  },
  {
   "cell_type": "markdown",
   "id": "8878190c",
   "metadata": {},
   "source": [
    "Solution 1 (analytique) de la 6) b"
   ]
  },
  {
   "cell_type": "code",
   "id": "354c3775",
   "metadata": {
    "ExecuteTime": {
     "end_time": "2025-09-07T19:18:30.724333Z",
     "start_time": "2025-09-07T19:18:30.720345Z"
    }
   },
   "source": [
    "#Valeur = 15 on cherche la probabilité que la prochaine carte fait perdre le joueur\n",
    "cartes_restantes=50\n",
    "nmbr_prochaines_cartesperd=27\n",
    "tirage=1\n",
    "chance_perte=27/50\n",
    "print(chance_perte)"
   ],
   "outputs": [
    {
     "name": "stdout",
     "output_type": "stream",
     "text": [
      "0.54\n"
     ]
    }
   ],
   "execution_count": 22
  },
  {
   "cell_type": "markdown",
   "id": "bd84151e",
   "metadata": {},
   "source": [
    "Solution 3 manière probabiliste 6.a)"
   ]
  },
  {
   "cell_type": "code",
   "id": "ce89f077",
   "metadata": {
    "ExecuteTime": {
     "end_time": "2025-09-07T19:18:30.837173Z",
     "start_time": "2025-09-07T19:18:30.775910Z"
    }
   },
   "source": [
    "import numpy as np\n",
    "import pandas as pd\n",
    "\n",
    "SIM_N = 1000\n",
    "RNG = np.random.default_rng()\n",
    "\n",
    "\n",
    "results = []\n",
    "blackjack_count = 0\n",
    "#Choix et stockage des cartes\n",
    "for i in range(SIM_N):\n",
    "    carte1 = RNG.choice([11] * 4 + [10] * 16 + list(range(2, 10)) * 4)\n",
    "    carte2 = RNG.choice([11] * 4 + [10] * 16 + list(range(2, 10)) * 4)\n",
    "    while carte1 == carte2:\n",
    "        carte2 = RNG.choice([11] * 4 + [10] * 16 + list(range(2, 10)) * 4)\n",
    "\n",
    "    somme = carte1 + carte2\n",
    "    is_blackjack = (somme == 21)\n",
    "\n",
    "    if is_blackjack:\n",
    "        blackjack_count += 1\n",
    "\n",
    "    # Stocker les résultats\n",
    "    results.append({\n",
    "        'Simulation': i + 1,\n",
    "        'Carte 1': carte1,\n",
    "        'Carte 2': carte2,\n",
    "        'Somme': somme,\n",
    "        'Blackjack': 'Oui' if is_blackjack else 'Non'\n",
    "    })\n",
    "\n",
    "# Création de tableau\n",
    "results_df = pd.DataFrame(results)\n",
    "\n",
    "# Résultats finaux\n",
    "print(\"═\" * 60)\n",
    "print(f\"RÉSULTATS DES {SIM_N} SIMULATIONS\")\n",
    "print(\"═\" * 60)\n",
    "print(f\"Nombre total de blackjacks: {blackjack_count}\")\n",
    "print(f\"Probabilité simulée: {blackjack_count/SIM_N:.4f} ({blackjack_count/SIM_N*100:.2f}%)\")\n",
    "print(\"═\" * 60)\n",
    "\n",
    "blackjacks_df = results_df[results_df['Blackjack'] == 'Oui']\n",
    "if not blackjacks_df.empty:\n",
    "    print(f\"\\nDétail des {len(blackjacks_df)} blackjacks obtenus:\")\n",
    "    print(\"─\" * 40)\n",
    "    print(blackjacks_df[['Simulation', 'Carte 1', 'Carte 2', 'Somme']].to_string(index=False))\n",
    "else:\n",
    "    print(\"\\nAucun blackjack obtenu dans cette simulation.\")\n",
    "\n",
    "# Statistiques supplémentaires\n",
    "print(f\"\\nSTATISTIQUES:\")\n",
    "print(\"─\" * 20)\n",
    "print(f\"Total simulations: {SIM_N}\")\n",
    "print(f\"Blackjacks: {blackjack_count}\")\n",
    "print(f\"Non-blackjacks: {SIM_N - blackjack_count}\")\n",
    "\n",
    "\n",
    "print(f\"\\nRÉPARTITION DE Victoires:\")\n",
    "sum_stats = results_df['Somme'].value_counts().sort_index()\n",
    "for somme, count in sum_stats.items():\n",
    "    if somme == 21 :\n",
    "        print(\"Resultats favorables: \",count,\"victoires\")\n",
    "print(gagner_direct(),count/SIM_N)"
   ],
   "outputs": [
    {
     "name": "stdout",
     "output_type": "stream",
     "text": [
      "════════════════════════════════════════════════════════════\n",
      "RÉSULTATS DES 1000 SIMULATIONS\n",
      "════════════════════════════════════════════════════════════\n",
      "Nombre total de blackjacks: 73\n",
      "Probabilité simulée: 0.0730 (7.30%)\n",
      "════════════════════════════════════════════════════════════\n",
      "\n",
      "Détail des 73 blackjacks obtenus:\n",
      "────────────────────────────────────────\n",
      " Simulation  Carte 1  Carte 2  Somme\n",
      "          1       10       11     21\n",
      "          4       10       11     21\n",
      "         26       10       11     21\n",
      "         36       10       11     21\n",
      "         51       10       11     21\n",
      "         60       11       10     21\n",
      "         74       11       10     21\n",
      "         77       11       10     21\n",
      "        100       10       11     21\n",
      "        108       11       10     21\n",
      "        123       11       10     21\n",
      "        135       10       11     21\n",
      "        136       11       10     21\n",
      "        161       10       11     21\n",
      "        237       11       10     21\n",
      "        263       11       10     21\n",
      "        278       11       10     21\n",
      "        301       10       11     21\n",
      "        302       10       11     21\n",
      "        305       10       11     21\n",
      "        321       10       11     21\n",
      "        328       10       11     21\n",
      "        329       10       11     21\n",
      "        341       10       11     21\n",
      "        358       10       11     21\n",
      "        364       10       11     21\n",
      "        368       11       10     21\n",
      "        372       11       10     21\n",
      "        442       10       11     21\n",
      "        443       11       10     21\n",
      "        450       11       10     21\n",
      "        476       11       10     21\n",
      "        494       10       11     21\n",
      "        537       10       11     21\n",
      "        542       11       10     21\n",
      "        560       11       10     21\n",
      "        580       10       11     21\n",
      "        583       11       10     21\n",
      "        587       10       11     21\n",
      "        594       10       11     21\n",
      "        596       11       10     21\n",
      "        609       10       11     21\n",
      "        616       11       10     21\n",
      "        634       11       10     21\n",
      "        636       10       11     21\n",
      "        640       11       10     21\n",
      "        649       10       11     21\n",
      "        660       11       10     21\n",
      "        661       10       11     21\n",
      "        670       11       10     21\n",
      "        697       10       11     21\n",
      "        720       11       10     21\n",
      "        730       10       11     21\n",
      "        743       11       10     21\n",
      "        761       11       10     21\n",
      "        780       11       10     21\n",
      "        783       10       11     21\n",
      "        785       11       10     21\n",
      "        810       11       10     21\n",
      "        816       10       11     21\n",
      "        828       10       11     21\n",
      "        848       10       11     21\n",
      "        864       10       11     21\n",
      "        873       10       11     21\n",
      "        883       10       11     21\n",
      "        888       11       10     21\n",
      "        937       11       10     21\n",
      "        939       10       11     21\n",
      "        953       10       11     21\n",
      "        956       11       10     21\n",
      "        966       11       10     21\n",
      "        981       10       11     21\n",
      "        993       11       10     21\n",
      "\n",
      "STATISTIQUES:\n",
      "────────────────────\n",
      "Total simulations: 1000\n",
      "Blackjacks: 73\n",
      "Non-blackjacks: 927\n",
      "\n",
      "RÉPARTITION DE Victoires:\n",
      "Resultats favorables:  73 victoires\n",
      "0.048265460030165915 0.073\n"
     ]
    }
   ],
   "execution_count": 23
  },
  {
   "metadata": {
    "ExecuteTime": {
     "end_time": "2025-09-07T19:18:30.845736Z",
     "start_time": "2025-09-07T19:18:30.843556Z"
    }
   },
   "cell_type": "code",
   "source": "",
   "id": "da4109a87ea0f021",
   "outputs": [],
   "execution_count": null
  },
  {
   "metadata": {
    "ExecuteTime": {
     "end_time": "2025-09-07T19:18:30.882745Z",
     "start_time": "2025-09-07T19:18:30.880697Z"
    }
   },
   "cell_type": "code",
   "source": "",
   "id": "54b2e6cce56745da",
   "outputs": [],
   "execution_count": null
  }
 ],
 "metadata": {
  "kernelspec": {
   "display_name": "Python 3",
   "language": "python",
   "name": "python3"
  },
  "language_info": {
   "codemirror_mode": {
    "name": "ipython",
    "version": 3
   },
   "file_extension": ".py",
   "mimetype": "text/x-python",
   "name": "python",
   "nbconvert_exporter": "python",
   "pygments_lexer": "ipython3",
   "version": "3.13.7"
  }
 },
 "nbformat": 4,
 "nbformat_minor": 5
}
