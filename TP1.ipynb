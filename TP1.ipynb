{
 "cells": [
  {
   "cell_type": "markdown",
   "id": "00732421",
   "metadata": {},
   "source": [
    "# Résolution QST 06 du TP1\n"
   ]
  },
  {
   "cell_type": "markdown",
   "id": "052dfc56",
   "metadata": {},
   "source": [
    "# a- la probabilité que les deux premières cartes distribuées totalisent 21 points (Blackjack)"
   ]
  },
  {
   "cell_type": "markdown",
   "id": "8b669bfa",
   "metadata": {},
   "source": [
    "## Code\n",
    "### Import et configuration"
   ]
  },
  {
   "cell_type": "code",
   "id": "94521044",
   "metadata": {
    "ExecuteTime": {
     "end_time": "2025-09-07T18:28:53.431773Z",
     "start_time": "2025-09-07T18:28:53.428598Z"
    }
   },
   "source": [
    "import itertools\n",
    "\n",
    "import matplotlib.pyplot as plt\n",
    "import numpy as np\n",
    "import pandas as pd\n",
    "import seaborn as sns\n",
    "from scipy.special import comb, factorial as fac"
   ],
   "outputs": [],
   "execution_count": 1
  },
  {
   "cell_type": "markdown",
   "id": "eeca7a05",
   "metadata": {},
   "source": [
    "### Solution 1 (analytique)"
   ]
  },
  {
   "cell_type": "code",
   "id": "10423309",
   "metadata": {
    "ExecuteTime": {
     "end_time": "2025-09-07T18:28:53.443022Z",
     "start_time": "2025-09-07T18:28:53.439526Z"
    }
   },
   "source": [
    "N = 16\n",
    "n = 1 \n",
    "p = 4 \n",
    "\n",
    "omega = comb(52, 2)\n",
    "print(\"Le nombre total de combinaisons possibles : \",omega)\n",
    "poss = 16 * 4 \n",
    "print(\"Le nombre de cas correspondant : \" ,poss)\n",
    "print(\"La probabilité de gagner dès les deux premières cartes est de : \", poss / omega)"
   ],
   "outputs": [
    {
     "name": "stdout",
     "output_type": "stream",
     "text": [
      "Le nombre total de combinaisons possibles :  1326.0\n",
      "Le nombre de cas correspondant :  64\n",
      "La probabilité de gagner dès les deux premières cartes est de :  0.048265460030165915\n"
     ]
    }
   ],
   "execution_count": 2
  },
  {
   "cell_type": "markdown",
   "id": "552137f6",
   "metadata": {},
   "source": [
    "### Solution 2 (force brute)"
   ]
  },
  {
   "cell_type": "code",
   "id": "7715bf47",
   "metadata": {
    "ExecuteTime": {
     "end_time": "2025-09-07T18:28:53.459863Z",
     "start_time": "2025-09-07T18:28:53.456613Z"
    }
   },
   "source": [
    "Cartes = ['as', '2', '3', '4', '5', '6', '7', '8', '9', '10', 'R', 'D', 'V'] # Créer les rangs\n",
    "CARTES = [coul for coul in Cartes for _ in range(4)] # Créer 4 cartes de chaque rang\n",
    "print(CARTES)"
   ],
   "outputs": [
    {
     "name": "stdout",
     "output_type": "stream",
     "text": [
      "['as', 'as', 'as', 'as', '2', '2', '2', '2', '3', '3', '3', '3', '4', '4', '4', '4', '5', '5', '5', '5', '6', '6', '6', '6', '7', '7', '7', '7', '8', '8', '8', '8', '9', '9', '9', '9', '10', '10', '10', '10', 'R', 'R', 'R', 'R', 'D', 'D', 'D', 'D', 'V', 'V', 'V', 'V']\n"
     ]
    }
   ],
   "execution_count": 3
  },
  {
   "cell_type": "code",
   "id": "1a8e08ff",
   "metadata": {
    "ExecuteTime": {
     "end_time": "2025-09-07T18:28:53.485469Z",
     "start_time": "2025-09-07T18:28:53.474202Z"
    }
   },
   "source": [
    "Cartes_rep = pd.DataFrame(itertools.combinations(CARTES, 2)) # Lister tous les cas possibles et les mettre dans un tableau\n",
    "Cartes_rep.columns = Cartes_rep. columns + 1 #Avancer l'indice de 0 à 1\n",
    "Cartes_rep # Afficher toutes les possibilités "
   ],
   "outputs": [
    {
     "data": {
      "text/plain": [
       "       1   2\n",
       "0     as  as\n",
       "1     as  as\n",
       "2     as  as\n",
       "3     as   2\n",
       "4     as   2\n",
       "...   ..  ..\n",
       "1321   V   V\n",
       "1322   V   V\n",
       "1323   V   V\n",
       "1324   V   V\n",
       "1325   V   V\n",
       "\n",
       "[1326 rows x 2 columns]"
      ],
      "text/html": [
       "<div>\n",
       "<style scoped>\n",
       "    .dataframe tbody tr th:only-of-type {\n",
       "        vertical-align: middle;\n",
       "    }\n",
       "\n",
       "    .dataframe tbody tr th {\n",
       "        vertical-align: top;\n",
       "    }\n",
       "\n",
       "    .dataframe thead th {\n",
       "        text-align: right;\n",
       "    }\n",
       "</style>\n",
       "<table border=\"1\" class=\"dataframe\">\n",
       "  <thead>\n",
       "    <tr style=\"text-align: right;\">\n",
       "      <th></th>\n",
       "      <th>1</th>\n",
       "      <th>2</th>\n",
       "    </tr>\n",
       "  </thead>\n",
       "  <tbody>\n",
       "    <tr>\n",
       "      <th>0</th>\n",
       "      <td>as</td>\n",
       "      <td>as</td>\n",
       "    </tr>\n",
       "    <tr>\n",
       "      <th>1</th>\n",
       "      <td>as</td>\n",
       "      <td>as</td>\n",
       "    </tr>\n",
       "    <tr>\n",
       "      <th>2</th>\n",
       "      <td>as</td>\n",
       "      <td>as</td>\n",
       "    </tr>\n",
       "    <tr>\n",
       "      <th>3</th>\n",
       "      <td>as</td>\n",
       "      <td>2</td>\n",
       "    </tr>\n",
       "    <tr>\n",
       "      <th>4</th>\n",
       "      <td>as</td>\n",
       "      <td>2</td>\n",
       "    </tr>\n",
       "    <tr>\n",
       "      <th>...</th>\n",
       "      <td>...</td>\n",
       "      <td>...</td>\n",
       "    </tr>\n",
       "    <tr>\n",
       "      <th>1321</th>\n",
       "      <td>V</td>\n",
       "      <td>V</td>\n",
       "    </tr>\n",
       "    <tr>\n",
       "      <th>1322</th>\n",
       "      <td>V</td>\n",
       "      <td>V</td>\n",
       "    </tr>\n",
       "    <tr>\n",
       "      <th>1323</th>\n",
       "      <td>V</td>\n",
       "      <td>V</td>\n",
       "    </tr>\n",
       "    <tr>\n",
       "      <th>1324</th>\n",
       "      <td>V</td>\n",
       "      <td>V</td>\n",
       "    </tr>\n",
       "    <tr>\n",
       "      <th>1325</th>\n",
       "      <td>V</td>\n",
       "      <td>V</td>\n",
       "    </tr>\n",
       "  </tbody>\n",
       "</table>\n",
       "<p>1326 rows × 2 columns</p>\n",
       "</div>"
      ]
     },
     "execution_count": 4,
     "metadata": {},
     "output_type": "execute_result"
    }
   ],
   "execution_count": 4
  },
  {
   "cell_type": "code",
   "id": "48f451f2",
   "metadata": {
    "ExecuteTime": {
     "end_time": "2025-09-07T18:28:53.529852Z",
     "start_time": "2025-09-07T18:28:53.524250Z"
    }
   },
   "source": [
    "res = Cartes_rep[(Cartes_rep[1] == 'as') &  (Cartes_rep[2].isin(['D', 'V', 'R', '10']))]\n",
    "print(res)\n"
   ],
   "outputs": [
    {
     "name": "stdout",
     "output_type": "stream",
     "text": [
      "      1   2\n",
      "35   as  10\n",
      "36   as  10\n",
      "37   as  10\n",
      "38   as  10\n",
      "39   as   R\n",
      "..   ..  ..\n",
      "193  as   D\n",
      "194  as   V\n",
      "195  as   V\n",
      "196  as   V\n",
      "197  as   V\n",
      "\n",
      "[64 rows x 2 columns]\n"
     ]
    }
   ],
   "execution_count": 5
  },
  {
   "cell_type": "code",
   "id": "ecd6a653",
   "metadata": {
    "ExecuteTime": {
     "end_time": "2025-09-07T18:28:53.621176Z",
     "start_time": "2025-09-07T18:28:53.617900Z"
    }
   },
   "source": [
    "print(\"La probabilité de gagner dès les deux premières cartes est de : \",len(res) / len(Cartes_rep))"
   ],
   "outputs": [
    {
     "name": "stdout",
     "output_type": "stream",
     "text": [
      "La probabilité de gagner dès les deux premières cartes est de :  0.048265460030165915\n"
     ]
    }
   ],
   "execution_count": 6
  },
  {
   "cell_type": "code",
   "id": "c2034342",
   "metadata": {
    "ExecuteTime": {
     "end_time": "2025-09-07T18:28:53.650997Z",
     "start_time": "2025-09-07T18:28:53.647880Z"
    }
   },
   "source": [
    "def gagner_2_cartes (dt: pd.DataFrame, nb_crt: int) : \n",
    "    Cartes_rep.columns = Cartes_rep. columns + 1 #Avancer l'indice de 0 à 1\n",
    "    Cartes_rep # Afficher toutes les possibilités \n",
    "    res = Cartes_rep[(Cartes_rep[1] == 'as') &  (Cartes_rep[2].isin(['D', 'V', 'R', '10']))]\n",
    "    return(res)    \n",
    "\n",
    "\n"
   ],
   "outputs": [],
   "execution_count": 7
  },
  {
   "cell_type": "code",
   "id": "537d082b",
   "metadata": {
    "ExecuteTime": {
     "end_time": "2025-09-07T18:28:53.714892Z",
     "start_time": "2025-09-07T18:28:53.705591Z"
    }
   },
   "source": [
    "Cartes_rep = pd.DataFrame(itertools.combinations(CARTES, 2))\n",
    "gagner_2_cartes(Cartes_rep, nb_crt = 2)"
   ],
   "outputs": [
    {
     "data": {
      "text/plain": [
       "      1   2\n",
       "35   as  10\n",
       "36   as  10\n",
       "37   as  10\n",
       "38   as  10\n",
       "39   as   R\n",
       "..   ..  ..\n",
       "193  as   D\n",
       "194  as   V\n",
       "195  as   V\n",
       "196  as   V\n",
       "197  as   V\n",
       "\n",
       "[64 rows x 2 columns]"
      ],
      "text/html": [
       "<div>\n",
       "<style scoped>\n",
       "    .dataframe tbody tr th:only-of-type {\n",
       "        vertical-align: middle;\n",
       "    }\n",
       "\n",
       "    .dataframe tbody tr th {\n",
       "        vertical-align: top;\n",
       "    }\n",
       "\n",
       "    .dataframe thead th {\n",
       "        text-align: right;\n",
       "    }\n",
       "</style>\n",
       "<table border=\"1\" class=\"dataframe\">\n",
       "  <thead>\n",
       "    <tr style=\"text-align: right;\">\n",
       "      <th></th>\n",
       "      <th>1</th>\n",
       "      <th>2</th>\n",
       "    </tr>\n",
       "  </thead>\n",
       "  <tbody>\n",
       "    <tr>\n",
       "      <th>35</th>\n",
       "      <td>as</td>\n",
       "      <td>10</td>\n",
       "    </tr>\n",
       "    <tr>\n",
       "      <th>36</th>\n",
       "      <td>as</td>\n",
       "      <td>10</td>\n",
       "    </tr>\n",
       "    <tr>\n",
       "      <th>37</th>\n",
       "      <td>as</td>\n",
       "      <td>10</td>\n",
       "    </tr>\n",
       "    <tr>\n",
       "      <th>38</th>\n",
       "      <td>as</td>\n",
       "      <td>10</td>\n",
       "    </tr>\n",
       "    <tr>\n",
       "      <th>39</th>\n",
       "      <td>as</td>\n",
       "      <td>R</td>\n",
       "    </tr>\n",
       "    <tr>\n",
       "      <th>...</th>\n",
       "      <td>...</td>\n",
       "      <td>...</td>\n",
       "    </tr>\n",
       "    <tr>\n",
       "      <th>193</th>\n",
       "      <td>as</td>\n",
       "      <td>D</td>\n",
       "    </tr>\n",
       "    <tr>\n",
       "      <th>194</th>\n",
       "      <td>as</td>\n",
       "      <td>V</td>\n",
       "    </tr>\n",
       "    <tr>\n",
       "      <th>195</th>\n",
       "      <td>as</td>\n",
       "      <td>V</td>\n",
       "    </tr>\n",
       "    <tr>\n",
       "      <th>196</th>\n",
       "      <td>as</td>\n",
       "      <td>V</td>\n",
       "    </tr>\n",
       "    <tr>\n",
       "      <th>197</th>\n",
       "      <td>as</td>\n",
       "      <td>V</td>\n",
       "    </tr>\n",
       "  </tbody>\n",
       "</table>\n",
       "<p>64 rows × 2 columns</p>\n",
       "</div>"
      ]
     },
     "execution_count": 8,
     "metadata": {},
     "output_type": "execute_result"
    }
   ],
   "execution_count": 8
  },
  {
   "cell_type": "markdown",
   "id": "5c974279",
   "metadata": {},
   "source": [
    "### Solution 3 (probabiliste)"
   ]
  },
  {
   "cell_type": "code",
   "id": "f7a1d109",
   "metadata": {
    "ExecuteTime": {
     "end_time": "2025-09-07T18:28:53.858587Z",
     "start_time": "2025-09-07T18:28:53.855887Z"
    }
   },
   "source": [
    "SEED = 1234\n",
    "\n",
    "RNG = np.random.default_rng(SEED)   #Crée un générateur de nbr aléatoires "
   ],
   "outputs": [],
   "execution_count": 9
  },
  {
   "cell_type": "code",
   "id": "78ffc4fd",
   "metadata": {
    "ExecuteTime": {
     "end_time": "2025-09-07T18:28:53.909841Z",
     "start_time": "2025-09-07T18:28:53.907197Z"
    }
   },
   "source": [
    "def rdm_exp(rng, Cartes): \n",
    "    return rng.permutations(Cartes).tolist()"
   ],
   "outputs": [],
   "execution_count": 10
  },
  {
   "cell_type": "code",
   "id": "320174c4",
   "metadata": {
    "ExecuteTime": {
     "end_time": "2025-09-07T18:28:53.961855Z",
     "start_time": "2025-09-07T18:28:53.959510Z"
    }
   },
   "source": [],
   "outputs": [],
   "execution_count": null
  }
 ],
 "metadata": {
  "kernelspec": {
   "display_name": "Python 3",
   "language": "python",
   "name": "python3"
  },
  "language_info": {
   "codemirror_mode": {
    "name": "ipython",
    "version": 3
   },
   "file_extension": ".py",
   "mimetype": "text/x-python",
   "name": "python",
   "nbconvert_exporter": "python",
   "pygments_lexer": "ipython3",
   "version": "3.13.7"
  }
 },
 "nbformat": 4,
 "nbformat_minor": 5
}
