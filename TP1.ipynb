{
 "cells": [
  {
   "cell_type": "markdown",
   "id": "00732421",
   "metadata": {},
   "source": [
    "# Résolution QST 06 du TP1\n"
   ]
  },
  {
   "cell_type": "markdown",
   "id": "052dfc56",
   "metadata": {},
   "source": [
    "# a- la probabilité que les deux premières cartes distribuées totalisent 21 points (Blackjack)"
   ]
  },
  {
   "cell_type": "markdown",
   "id": "8b669bfa",
   "metadata": {},
   "source": [
    "## Code\n",
    "### Import et configuration"
   ]
  },
  {
   "cell_type": "code",
   "execution_count": 2,
   "id": "94521044",
   "metadata": {},
   "outputs": [],
   "source": [
    "import itertools\n",
    "\n",
    "import matplotlib.pyplot as plt\n",
    "import numpy as np\n",
    "import pandas as pd\n",
    "import seaborn as sns\n",
    "from scipy.special import comb, factorial as fac"
   ]
  },
  {
   "cell_type": "markdown",
   "id": "eeca7a05",
   "metadata": {},
   "source": [
    "### Solution 1 (analytique)"
   ]
  },
  {
   "cell_type": "code",
   "id": "10423309",
   "metadata": {
    "jupyter": {
     "is_executing": true
    }
   },
   "source": [
    "N = 16\n",
    "n = 1 \n",
    "p = 4 \n",
    "\n",
    "omega = comb(52, 2)\n",
    "print(\"Le nombre total de combinaisons possibles : \",omega)\n",
    "poss = 16 * 4 \n",
    "print(\"Le nombre de cas correspondant : \" ,poss)\n",
    "print(\"La probabilité de gagner dès les deux premières cartes est de : \", poss / omega)"
   ],
   "outputs": [],
   "execution_count": null
  },
  {
   "cell_type": "markdown",
   "id": "552137f6",
   "metadata": {},
   "source": [
    "### Solution 2 (force brute)"
   ]
  },
  {
   "cell_type": "code",
   "execution_count": 81,
   "id": "7715bf47",
   "metadata": {},
   "outputs": [
    {
     "name": "stdout",
     "output_type": "stream",
     "text": [
      "['as', 'as', 'as', 'as', '2', '2', '2', '2', '3', '3', '3', '3', '4', '4', '4', '4', '5', '5', '5', '5', '6', '6', '6', '6', '7', '7', '7', '7', '8', '8', '8', '8', '9', '9', '9', '9', '10', '10', '10', '10', 'R', 'R', 'R', 'R', 'D', 'D', 'D', 'D', 'V', 'V', 'V', 'V']\n"
     ]
    }
   ],
   "source": [
    "Cartes = ['as', '2', '3', '4', '5', '6', '7', '8', '9', '10', 'R', 'D', 'V'] # Créer les rangs\n",
    "CARTES = [coul for coul in Cartes for _ in range(4)] # Créer 4 cartes de chaque rang\n",
    "print(CARTES)"
   ]
  },
  {
   "cell_type": "code",
   "execution_count": 82,
   "id": "1a8e08ff",
   "metadata": {},
   "outputs": [
    {
     "data": {
      "text/html": [
       "<div>\n",
       "<style scoped>\n",
       "    .dataframe tbody tr th:only-of-type {\n",
       "        vertical-align: middle;\n",
       "    }\n",
       "\n",
       "    .dataframe tbody tr th {\n",
       "        vertical-align: top;\n",
       "    }\n",
       "\n",
       "    .dataframe thead th {\n",
       "        text-align: right;\n",
       "    }\n",
       "</style>\n",
       "<table border=\"1\" class=\"dataframe\">\n",
       "  <thead>\n",
       "    <tr style=\"text-align: right;\">\n",
       "      <th></th>\n",
       "      <th>1</th>\n",
       "      <th>2</th>\n",
       "    </tr>\n",
       "  </thead>\n",
       "  <tbody>\n",
       "    <tr>\n",
       "      <th>0</th>\n",
       "      <td>as</td>\n",
       "      <td>as</td>\n",
       "    </tr>\n",
       "    <tr>\n",
       "      <th>1</th>\n",
       "      <td>as</td>\n",
       "      <td>as</td>\n",
       "    </tr>\n",
       "    <tr>\n",
       "      <th>2</th>\n",
       "      <td>as</td>\n",
       "      <td>as</td>\n",
       "    </tr>\n",
       "    <tr>\n",
       "      <th>3</th>\n",
       "      <td>as</td>\n",
       "      <td>2</td>\n",
       "    </tr>\n",
       "    <tr>\n",
       "      <th>4</th>\n",
       "      <td>as</td>\n",
       "      <td>2</td>\n",
       "    </tr>\n",
       "    <tr>\n",
       "      <th>...</th>\n",
       "      <td>...</td>\n",
       "      <td>...</td>\n",
       "    </tr>\n",
       "    <tr>\n",
       "      <th>1321</th>\n",
       "      <td>V</td>\n",
       "      <td>V</td>\n",
       "    </tr>\n",
       "    <tr>\n",
       "      <th>1322</th>\n",
       "      <td>V</td>\n",
       "      <td>V</td>\n",
       "    </tr>\n",
       "    <tr>\n",
       "      <th>1323</th>\n",
       "      <td>V</td>\n",
       "      <td>V</td>\n",
       "    </tr>\n",
       "    <tr>\n",
       "      <th>1324</th>\n",
       "      <td>V</td>\n",
       "      <td>V</td>\n",
       "    </tr>\n",
       "    <tr>\n",
       "      <th>1325</th>\n",
       "      <td>V</td>\n",
       "      <td>V</td>\n",
       "    </tr>\n",
       "  </tbody>\n",
       "</table>\n",
       "<p>1326 rows × 2 columns</p>\n",
       "</div>"
      ],
      "text/plain": [
       "       1   2\n",
       "0     as  as\n",
       "1     as  as\n",
       "2     as  as\n",
       "3     as   2\n",
       "4     as   2\n",
       "...   ..  ..\n",
       "1321   V   V\n",
       "1322   V   V\n",
       "1323   V   V\n",
       "1324   V   V\n",
       "1325   V   V\n",
       "\n",
       "[1326 rows x 2 columns]"
      ]
     },
     "execution_count": 82,
     "metadata": {},
     "output_type": "execute_result"
    }
   ],
   "source": [
    "Cartes_rep = pd.DataFrame(itertools.combinations(CARTES, 2)) # Lister tous les cas possibles et les mettre dans un tableau\n",
    "Cartes_rep.columns = Cartes_rep. columns + 1 #Avancer l'indice de 0 à 1\n",
    "Cartes_rep # Afficher toutes les possibilités "
   ]
  },
  {
   "cell_type": "code",
   "execution_count": 93,
   "id": "48f451f2",
   "metadata": {},
   "outputs": [
    {
     "name": "stdout",
     "output_type": "stream",
     "text": [
      "      1   2\n",
      "35   as  10\n",
      "36   as  10\n",
      "37   as  10\n",
      "38   as  10\n",
      "39   as   R\n",
      "..   ..  ..\n",
      "193  as   D\n",
      "194  as   V\n",
      "195  as   V\n",
      "196  as   V\n",
      "197  as   V\n",
      "\n",
      "[64 rows x 2 columns]\n"
     ]
    }
   ],
   "source": [
    "res = Cartes_rep[(Cartes_rep[1] == 'as') &  (Cartes_rep[2].isin(['D', 'V', 'R', '10']))]\n",
    "print(res)\n"
   ]
  },
  {
   "cell_type": "code",
   "execution_count": 98,
   "id": "ecd6a653",
   "metadata": {},
   "outputs": [
    {
     "name": "stdout",
     "output_type": "stream",
     "text": [
      "La probabilité de gagner dès les deux premières cartes est de :  0.048265460030165915\n"
     ]
    }
   ],
   "source": [
    "print(\"La probabilité de gagner dès les deux premières cartes est de : \",len(res) / len(Cartes_rep))"
   ]
  },
  {
   "cell_type": "code",
   "id": "c2034342",
   "metadata": {
    "jupyter": {
     "is_executing": true
    }
   },
   "source": [
    "def gagner_2_cartes (dt: pd.DataFrame, nb_crt: int) : \n",
    "    Cartes_rep.columns = Cartes_rep. columns + 1 #Avancer l'indice de 0 à 1\n",
    "    Cartes_rep # Afficher toutes les possibilités \n",
    "    res = Cartes_rep[(Cartes_rep[1] == 'as') &  (Cartes_rep[2].isin(['D', 'V', 'R', '10']))]\n",
    "    return(res)    \n",
    "\n",
    "\n"
   ],
   "outputs": [],
   "execution_count": null
  },
  {
   "cell_type": "code",
   "execution_count": 120,
   "id": "537d082b",
   "metadata": {},
   "outputs": [
    {
     "data": {
      "text/html": [
       "<div>\n",
       "<style scoped>\n",
       "    .dataframe tbody tr th:only-of-type {\n",
       "        vertical-align: middle;\n",
       "    }\n",
       "\n",
       "    .dataframe tbody tr th {\n",
       "        vertical-align: top;\n",
       "    }\n",
       "\n",
       "    .dataframe thead th {\n",
       "        text-align: right;\n",
       "    }\n",
       "</style>\n",
       "<table border=\"1\" class=\"dataframe\">\n",
       "  <thead>\n",
       "    <tr style=\"text-align: right;\">\n",
       "      <th></th>\n",
       "      <th>1</th>\n",
       "      <th>2</th>\n",
       "    </tr>\n",
       "  </thead>\n",
       "  <tbody>\n",
       "    <tr>\n",
       "      <th>35</th>\n",
       "      <td>as</td>\n",
       "      <td>10</td>\n",
       "    </tr>\n",
       "    <tr>\n",
       "      <th>36</th>\n",
       "      <td>as</td>\n",
       "      <td>10</td>\n",
       "    </tr>\n",
       "    <tr>\n",
       "      <th>37</th>\n",
       "      <td>as</td>\n",
       "      <td>10</td>\n",
       "    </tr>\n",
       "    <tr>\n",
       "      <th>38</th>\n",
       "      <td>as</td>\n",
       "      <td>10</td>\n",
       "    </tr>\n",
       "    <tr>\n",
       "      <th>39</th>\n",
       "      <td>as</td>\n",
       "      <td>R</td>\n",
       "    </tr>\n",
       "    <tr>\n",
       "      <th>...</th>\n",
       "      <td>...</td>\n",
       "      <td>...</td>\n",
       "    </tr>\n",
       "    <tr>\n",
       "      <th>193</th>\n",
       "      <td>as</td>\n",
       "      <td>D</td>\n",
       "    </tr>\n",
       "    <tr>\n",
       "      <th>194</th>\n",
       "      <td>as</td>\n",
       "      <td>V</td>\n",
       "    </tr>\n",
       "    <tr>\n",
       "      <th>195</th>\n",
       "      <td>as</td>\n",
       "      <td>V</td>\n",
       "    </tr>\n",
       "    <tr>\n",
       "      <th>196</th>\n",
       "      <td>as</td>\n",
       "      <td>V</td>\n",
       "    </tr>\n",
       "    <tr>\n",
       "      <th>197</th>\n",
       "      <td>as</td>\n",
       "      <td>V</td>\n",
       "    </tr>\n",
       "  </tbody>\n",
       "</table>\n",
       "<p>64 rows × 2 columns</p>\n",
       "</div>"
      ],
      "text/plain": [
       "      1   2\n",
       "35   as  10\n",
       "36   as  10\n",
       "37   as  10\n",
       "38   as  10\n",
       "39   as   R\n",
       "..   ..  ..\n",
       "193  as   D\n",
       "194  as   V\n",
       "195  as   V\n",
       "196  as   V\n",
       "197  as   V\n",
       "\n",
       "[64 rows x 2 columns]"
      ]
     },
     "execution_count": 120,
     "metadata": {},
     "output_type": "execute_result"
    }
   ],
   "source": [
    "Cartes_rep = pd.DataFrame(itertools.combinations(CARTES, 2))\n",
    "gagner_2_cartes(Cartes_rep, nb_crt = 2)"
   ]
  },
  {
   "cell_type": "markdown",
   "id": "5c974279",
   "metadata": {},
   "source": [
    "### Solution 3 (probabiliste)"
   ]
  },
  {
   "cell_type": "code",
   "execution_count": 123,
   "id": "f7a1d109",
   "metadata": {},
   "outputs": [],
   "source": [
    "SEED = 1234\n",
    "\n",
    "RNG = np.random.default_rng(SEED)   #Crée un générateur de nbr aléatoires "
   ]
  },
  {
   "cell_type": "code",
   "execution_count": 137,
   "id": "78ffc4fd",
   "metadata": {},
   "outputs": [],
   "source": [
    "def rdm_exp(rng, Cartes): \n",
    "    return rng.permutations(Cartes).tolist()"
   ]
  },
  {
   "cell_type": "code",
   "execution_count": null,
   "id": "320174c4",
   "metadata": {},
   "outputs": [
    {
     "ename": "AttributeError",
     "evalue": "'numpy.random._generator.Generator' object has no attribute 'permutations'",
     "output_type": "error",
     "traceback": [
      "\u001B[31m---------------------------------------------------------------------------\u001B[39m",
      "\u001B[31mAttributeError\u001B[39m                            Traceback (most recent call last)",
      "\u001B[36mCell\u001B[39m\u001B[36m \u001B[39m\u001B[32mIn[138]\u001B[39m\u001B[32m, line 1\u001B[39m\n\u001B[32m----> \u001B[39m\u001B[32m1\u001B[39m \u001B[43mrdm_exp\u001B[49m\u001B[43m(\u001B[49m\u001B[43mRNG\u001B[49m\u001B[43m,\u001B[49m\u001B[43m \u001B[49m\u001B[43mCARTES\u001B[49m\u001B[43m)\u001B[49m\n",
      "\u001B[36mCell\u001B[39m\u001B[36m \u001B[39m\u001B[32mIn[137]\u001B[39m\u001B[32m, line 2\u001B[39m, in \u001B[36mrdm_exp\u001B[39m\u001B[34m(rng, Cartes)\u001B[39m\n\u001B[32m      1\u001B[39m \u001B[38;5;28;01mdef\u001B[39;00m\u001B[38;5;250m \u001B[39m\u001B[34mrdm_exp\u001B[39m(rng, Cartes): \n\u001B[32m----> \u001B[39m\u001B[32m2\u001B[39m     \u001B[38;5;28;01mreturn\u001B[39;00m \u001B[43mrng\u001B[49m\u001B[43m.\u001B[49m\u001B[43mpermutations\u001B[49m(Cartes).tolist()\n",
      "\u001B[31mAttributeError\u001B[39m: 'numpy.random._generator.Generator' object has no attribute 'permutations'"
     ]
    }
   ],
   "source": []
  }
 ],
 "metadata": {
  "kernelspec": {
   "display_name": "Python 3",
   "language": "python",
   "name": "python3"
  },
  "language_info": {
   "codemirror_mode": {
    "name": "ipython",
    "version": 3
   },
   "file_extension": ".py",
   "mimetype": "text/x-python",
   "name": "python",
   "nbconvert_exporter": "python",
   "pygments_lexer": "ipython3",
   "version": "3.13.7"
  }
 },
 "nbformat": 4,
 "nbformat_minor": 5
}
