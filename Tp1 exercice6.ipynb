{
 "cells": [
  {
   "metadata": {},
   "cell_type": "markdown",
   "source": [
    "# Exercice 6\n",
    "\n",
    "### Résolution de la question 06 du TD\n",
    "\n",
    "### Problème :\n",
    "\n",
    " Black Jack (règle simplifiée, pour un seul joueur) :\n",
    " • On utilise un seul jeu de 52 cartes. Chaque carte a une valeur :– de 2 à 10 : sa valeur faciale, ou nominale– une figure (valet, dame ou roi) : 10 points– un as : 1 ou 11 points, au gré du joueur.\n",
    "\n",
    " • La banque commence par distribuer deux cartes au joueur. Le joueur peut\n",
    " ensuite demander à la banque des cartes supplémentaires, une à une.\n",
    "\n",
    " • Il gagne s’il atteint exactement 21. Il perd s’il dépasse (strictement) 21. Il peut\n",
    " s’arrêter quand il veut.\n",
    "\n",
    " (a) Quelle est la probabilité que les deux premières cartes distribuées au joueur\n",
    " totalisent 21 points (blackjack) ?\n",
    "\n",
    " (b) Si les deux 1res cartes distribuées sont une dame et un 5. Quelle est la\n",
    " probabilité qu’il perde aussitôt s’il demande une 3e carte ?"
   ],
   "id": "76bfd8e13b7e44b1"
  },
  {
   "metadata": {},
   "cell_type": "markdown",
   "source": [
    "### Produire une solution de 3 manières différentes :\n",
    "\n",
    "1. De manière analytique (en utilisant des formules mathématiques).\n",
    "\n",
    "1. En utilisant une méthode de force brute (en énumérant toutes les combinaisons possibles de manière séquentielle).\n",
    "\n",
    "1. En utilisant une méthode probabiliste (en simulant un grand nombre de combinaisons de 4 lancers de dé de manière aléatoire)."
   ],
   "id": "bb7f41d1b5caa68a"
  },
  {
   "metadata": {},
   "cell_type": "markdown",
   "source": [
    "## Code\n",
    "### Import et configuration"
   ],
   "id": "cf452f50d02f5b81"
  },
  {
   "metadata": {
    "ExecuteTime": {
     "end_time": "2025-09-07T19:14:06.837301Z",
     "start_time": "2025-09-07T19:14:06.833653Z"
    }
   },
   "cell_type": "code",
   "source": [
    "import itertools\n",
    "\n",
    "import matplotlib.pyplot as plt\n",
    "import numpy as np\n",
    "import pandas as pd\n",
    "import seaborn as sns\n",
    "from scipy.special import comb, factorial as fac"
   ],
   "id": "1dbe4df4b4f46daf",
   "outputs": [],
   "execution_count": 106
  },
  {
   "metadata": {},
   "cell_type": "markdown",
   "source": [
    "### Solution 1 (analytique)\n",
    "\n",
    "A)  Quelle est la probabilité que les deux premières cartes distribuées au joueur\n",
    " totalisent 21 points (blackjack) ?"
   ],
   "id": "dd718ebfc93aab11"
  },
  {
   "metadata": {
    "ExecuteTime": {
     "end_time": "2025-09-07T19:14:06.849814Z",
     "start_time": "2025-09-07T19:14:06.845883Z"
    }
   },
   "cell_type": "code",
   "source": [
    "import math\n",
    "Nombre_de_cartes = 52\n",
    "cartes_distribués = 2\n",
    "nombre_as = 4\n",
    "nombre_val10 = 16\n",
    "combinaisons = math.comb(Nombre_de_cartes, cartes_distribués)\n",
    "combi_de21 = nombre_as * nombre_val10\n",
    "print(combi_de21 / combinaisons)\n"
   ],
   "id": "17fc084354a01d62",
   "outputs": [
    {
     "name": "stdout",
     "output_type": "stream",
     "text": [
      "0.048265460030165915\n"
     ]
    }
   ],
   "execution_count": 107
  },
  {
   "metadata": {},
   "cell_type": "markdown",
   "source": [
    "B) Si les deux 1res cartes distribuées sont une dame et un 5. Quelle est la\n",
    " probabilité qu’il perde aussitôt s’il demande une 3e carte ?"
   ],
   "id": "5cdd355711afdcbe"
  },
  {
   "metadata": {
    "ExecuteTime": {
     "end_time": "2025-09-07T19:14:06.864811Z",
     "start_time": "2025-09-07T19:14:06.861898Z"
    }
   },
   "cell_type": "code",
   "source": [
    "#Valeur = 15 on cherche la probabilité que la prochaine carte fait perdre le joueur\n",
    "cartes_restantes=50\n",
    "nmbr_prochaines_cartesperd=27\n",
    "tirage=1\n",
    "chance_perte=27/50\n",
    "print(chance_perte)"
   ],
   "id": "d8e8f225e5d63d9f",
   "outputs": [
    {
     "name": "stdout",
     "output_type": "stream",
     "text": [
      "0.54\n"
     ]
    }
   ],
   "execution_count": 108
  },
  {
   "metadata": {},
   "cell_type": "markdown",
   "source": "### Solution 2 ( Brute force )",
   "id": "f89c0ae731ca5da1"
  },
  {
   "metadata": {},
   "cell_type": "markdown",
   "source": [
    "A)  Quelle est la probabilité que les deux premières cartes distribuées au joueur\n",
    " totalisent 21 points (blackjack) ?"
   ],
   "id": "72460ff53bb0a471"
  },
  {
   "metadata": {
    "ExecuteTime": {
     "end_time": "2025-09-07T19:14:06.879794Z",
     "start_time": "2025-09-07T19:14:06.875823Z"
    }
   },
   "cell_type": "code",
   "source": [
    "Cartes = ['as', '2', '3', '4', '5', '6', '7', '8', '9', '10', 'R', 'D', 'V'] # Créer les rangs\n",
    "CARTES = [coul for coul in Cartes for _ in range(4)] # Créer 4 cartes de chaque rang\n",
    "print(CARTES)"
   ],
   "id": "505c5ad13cfb5244",
   "outputs": [
    {
     "name": "stdout",
     "output_type": "stream",
     "text": [
      "['as', 'as', 'as', 'as', '2', '2', '2', '2', '3', '3', '3', '3', '4', '4', '4', '4', '5', '5', '5', '5', '6', '6', '6', '6', '7', '7', '7', '7', '8', '8', '8', '8', '9', '9', '9', '9', '10', '10', '10', '10', 'R', 'R', 'R', 'R', 'D', 'D', 'D', 'D', 'V', 'V', 'V', 'V']\n"
     ]
    }
   ],
   "execution_count": 109
  },
  {
   "metadata": {
    "ExecuteTime": {
     "end_time": "2025-09-07T19:14:06.904831Z",
     "start_time": "2025-09-07T19:14:06.897859Z"
    }
   },
   "cell_type": "code",
   "source": [
    "Cartes_rep = pd.DataFrame(itertools.combinations(CARTES, 2)) # Lister tous les cas possibles et les mettre dans un tableau\n",
    "Cartes_rep.columns = Cartes_rep. columns + 1 #Avancer l'indice de 0 à 1\n",
    "Cartes_rep # Afficher toutes les possibilités"
   ],
   "id": "df8f059dd21bb0f4",
   "outputs": [
    {
     "data": {
      "text/plain": [
       "       1   2\n",
       "0     as  as\n",
       "1     as  as\n",
       "2     as  as\n",
       "3     as   2\n",
       "4     as   2\n",
       "...   ..  ..\n",
       "1321   V   V\n",
       "1322   V   V\n",
       "1323   V   V\n",
       "1324   V   V\n",
       "1325   V   V\n",
       "\n",
       "[1326 rows x 2 columns]"
      ],
      "text/html": [
       "<div>\n",
       "<style scoped>\n",
       "    .dataframe tbody tr th:only-of-type {\n",
       "        vertical-align: middle;\n",
       "    }\n",
       "\n",
       "    .dataframe tbody tr th {\n",
       "        vertical-align: top;\n",
       "    }\n",
       "\n",
       "    .dataframe thead th {\n",
       "        text-align: right;\n",
       "    }\n",
       "</style>\n",
       "<table border=\"1\" class=\"dataframe\">\n",
       "  <thead>\n",
       "    <tr style=\"text-align: right;\">\n",
       "      <th></th>\n",
       "      <th>1</th>\n",
       "      <th>2</th>\n",
       "    </tr>\n",
       "  </thead>\n",
       "  <tbody>\n",
       "    <tr>\n",
       "      <th>0</th>\n",
       "      <td>as</td>\n",
       "      <td>as</td>\n",
       "    </tr>\n",
       "    <tr>\n",
       "      <th>1</th>\n",
       "      <td>as</td>\n",
       "      <td>as</td>\n",
       "    </tr>\n",
       "    <tr>\n",
       "      <th>2</th>\n",
       "      <td>as</td>\n",
       "      <td>as</td>\n",
       "    </tr>\n",
       "    <tr>\n",
       "      <th>3</th>\n",
       "      <td>as</td>\n",
       "      <td>2</td>\n",
       "    </tr>\n",
       "    <tr>\n",
       "      <th>4</th>\n",
       "      <td>as</td>\n",
       "      <td>2</td>\n",
       "    </tr>\n",
       "    <tr>\n",
       "      <th>...</th>\n",
       "      <td>...</td>\n",
       "      <td>...</td>\n",
       "    </tr>\n",
       "    <tr>\n",
       "      <th>1321</th>\n",
       "      <td>V</td>\n",
       "      <td>V</td>\n",
       "    </tr>\n",
       "    <tr>\n",
       "      <th>1322</th>\n",
       "      <td>V</td>\n",
       "      <td>V</td>\n",
       "    </tr>\n",
       "    <tr>\n",
       "      <th>1323</th>\n",
       "      <td>V</td>\n",
       "      <td>V</td>\n",
       "    </tr>\n",
       "    <tr>\n",
       "      <th>1324</th>\n",
       "      <td>V</td>\n",
       "      <td>V</td>\n",
       "    </tr>\n",
       "    <tr>\n",
       "      <th>1325</th>\n",
       "      <td>V</td>\n",
       "      <td>V</td>\n",
       "    </tr>\n",
       "  </tbody>\n",
       "</table>\n",
       "<p>1326 rows × 2 columns</p>\n",
       "</div>"
      ]
     },
     "execution_count": 110,
     "metadata": {},
     "output_type": "execute_result"
    }
   ],
   "execution_count": 110
  },
  {
   "metadata": {
    "ExecuteTime": {
     "end_time": "2025-09-07T19:14:06.951697Z",
     "start_time": "2025-09-07T19:14:06.946975Z"
    }
   },
   "cell_type": "code",
   "source": [
    "res = Cartes_rep[(Cartes_rep[1] == 'as') &  (Cartes_rep[2].isin(['D', 'V', 'R', '10']))]\n",
    "print(res)"
   ],
   "id": "e47ac9196418ba5c",
   "outputs": [
    {
     "name": "stdout",
     "output_type": "stream",
     "text": [
      "      1   2\n",
      "35   as  10\n",
      "36   as  10\n",
      "37   as  10\n",
      "38   as  10\n",
      "39   as   R\n",
      "..   ..  ..\n",
      "193  as   D\n",
      "194  as   V\n",
      "195  as   V\n",
      "196  as   V\n",
      "197  as   V\n",
      "\n",
      "[64 rows x 2 columns]\n"
     ]
    }
   ],
   "execution_count": 111
  },
  {
   "metadata": {
    "ExecuteTime": {
     "end_time": "2025-09-07T19:14:07.027571Z",
     "start_time": "2025-09-07T19:14:07.023372Z"
    }
   },
   "cell_type": "code",
   "source": "print(\"La probabilité de gagner dès les deux premières cartes est de : \",len(res) / len(Cartes_rep))",
   "id": "2ab2ba51a804f127",
   "outputs": [
    {
     "name": "stdout",
     "output_type": "stream",
     "text": [
      "La probabilité de gagner dès les deux premières cartes est de :  0.048265460030165915\n"
     ]
    }
   ],
   "execution_count": 112
  },
  {
   "metadata": {
    "ExecuteTime": {
     "end_time": "2025-09-07T19:14:07.051862Z",
     "start_time": "2025-09-07T19:14:07.048282Z"
    }
   },
   "cell_type": "code",
   "source": [
    "def gagner_2_cartes (dt: pd.DataFrame, nb_crt: int) :\n",
    "    Cartes_rep.columns = Cartes_rep. columns + 1 #Avancer l'indice de 0 à 1\n",
    "    Cartes_rep # Afficher toutes les possibilités\n",
    "    res = Cartes_rep[(Cartes_rep[1] == 'as') &  (Cartes_rep[2].isin(['D', 'V', 'R', '10']))]\n",
    "    return(res)"
   ],
   "id": "bd422ca6f642b408",
   "outputs": [],
   "execution_count": 113
  },
  {
   "metadata": {
    "ExecuteTime": {
     "end_time": "2025-09-07T19:14:07.107948Z",
     "start_time": "2025-09-07T19:14:07.100411Z"
    }
   },
   "cell_type": "code",
   "source": [
    "Cartes_rep = pd.DataFrame(itertools.combinations(CARTES, 2))\n",
    "gagner_2_cartes(Cartes_rep, nb_crt = 2)"
   ],
   "id": "2035d2ece1e522c7",
   "outputs": [
    {
     "data": {
      "text/plain": [
       "      1   2\n",
       "35   as  10\n",
       "36   as  10\n",
       "37   as  10\n",
       "38   as  10\n",
       "39   as   R\n",
       "..   ..  ..\n",
       "193  as   D\n",
       "194  as   V\n",
       "195  as   V\n",
       "196  as   V\n",
       "197  as   V\n",
       "\n",
       "[64 rows x 2 columns]"
      ],
      "text/html": [
       "<div>\n",
       "<style scoped>\n",
       "    .dataframe tbody tr th:only-of-type {\n",
       "        vertical-align: middle;\n",
       "    }\n",
       "\n",
       "    .dataframe tbody tr th {\n",
       "        vertical-align: top;\n",
       "    }\n",
       "\n",
       "    .dataframe thead th {\n",
       "        text-align: right;\n",
       "    }\n",
       "</style>\n",
       "<table border=\"1\" class=\"dataframe\">\n",
       "  <thead>\n",
       "    <tr style=\"text-align: right;\">\n",
       "      <th></th>\n",
       "      <th>1</th>\n",
       "      <th>2</th>\n",
       "    </tr>\n",
       "  </thead>\n",
       "  <tbody>\n",
       "    <tr>\n",
       "      <th>35</th>\n",
       "      <td>as</td>\n",
       "      <td>10</td>\n",
       "    </tr>\n",
       "    <tr>\n",
       "      <th>36</th>\n",
       "      <td>as</td>\n",
       "      <td>10</td>\n",
       "    </tr>\n",
       "    <tr>\n",
       "      <th>37</th>\n",
       "      <td>as</td>\n",
       "      <td>10</td>\n",
       "    </tr>\n",
       "    <tr>\n",
       "      <th>38</th>\n",
       "      <td>as</td>\n",
       "      <td>10</td>\n",
       "    </tr>\n",
       "    <tr>\n",
       "      <th>39</th>\n",
       "      <td>as</td>\n",
       "      <td>R</td>\n",
       "    </tr>\n",
       "    <tr>\n",
       "      <th>...</th>\n",
       "      <td>...</td>\n",
       "      <td>...</td>\n",
       "    </tr>\n",
       "    <tr>\n",
       "      <th>193</th>\n",
       "      <td>as</td>\n",
       "      <td>D</td>\n",
       "    </tr>\n",
       "    <tr>\n",
       "      <th>194</th>\n",
       "      <td>as</td>\n",
       "      <td>V</td>\n",
       "    </tr>\n",
       "    <tr>\n",
       "      <th>195</th>\n",
       "      <td>as</td>\n",
       "      <td>V</td>\n",
       "    </tr>\n",
       "    <tr>\n",
       "      <th>196</th>\n",
       "      <td>as</td>\n",
       "      <td>V</td>\n",
       "    </tr>\n",
       "    <tr>\n",
       "      <th>197</th>\n",
       "      <td>as</td>\n",
       "      <td>V</td>\n",
       "    </tr>\n",
       "  </tbody>\n",
       "</table>\n",
       "<p>64 rows × 2 columns</p>\n",
       "</div>"
      ]
     },
     "execution_count": 114,
     "metadata": {},
     "output_type": "execute_result"
    }
   ],
   "execution_count": 114
  },
  {
   "metadata": {},
   "cell_type": "markdown",
   "source": [
    "B) Si les deux 1res cartes distribuées sont une dame et un 5. Quelle est la\n",
    " probabilité qu’il perde aussitôt s’il demande une 3e carte ?"
   ],
   "id": "1b3fdb10f840a811"
  },
  {
   "metadata": {
    "ExecuteTime": {
     "end_time": "2025-09-07T19:14:07.216622Z",
     "start_time": "2025-09-07T19:14:07.213544Z"
    }
   },
   "cell_type": "code",
   "source": [
    "# On retire une Dame et un 5 du paquet CARTES\n",
    "jeu_de50 = CARTES.copy()\n",
    "jeu_de50.remove(\"D\")\n",
    "jeu_de50.remove(\"5\")\n"
   ],
   "id": "a30d7ed1f739d16c",
   "outputs": [],
   "execution_count": 115
  },
  {
   "metadata": {
    "ExecuteTime": {
     "end_time": "2025-09-07T19:14:07.258991Z",
     "start_time": "2025-09-07T19:14:07.251933Z"
    }
   },
   "cell_type": "code",
   "source": [
    "# Mettre les cartes restantes dans un DataFrame\n",
    "tableau_de_50_cartes = pd.DataFrame(jeu_de50, columns=[0])\n",
    "tableau_de_50_cartes.columns = tableau_de_50_cartes.columns + 1\n",
    "tableau_de_50_cartes"
   ],
   "id": "858845dbfb06d7bd",
   "outputs": [
    {
     "data": {
      "text/plain": [
       "     1\n",
       "0   as\n",
       "1   as\n",
       "2   as\n",
       "3   as\n",
       "4    2\n",
       "5    2\n",
       "6    2\n",
       "7    2\n",
       "8    3\n",
       "9    3\n",
       "10   3\n",
       "11   3\n",
       "12   4\n",
       "13   4\n",
       "14   4\n",
       "15   4\n",
       "16   5\n",
       "17   5\n",
       "18   5\n",
       "19   6\n",
       "20   6\n",
       "21   6\n",
       "22   6\n",
       "23   7\n",
       "24   7\n",
       "25   7\n",
       "26   7\n",
       "27   8\n",
       "28   8\n",
       "29   8\n",
       "30   8\n",
       "31   9\n",
       "32   9\n",
       "33   9\n",
       "34   9\n",
       "35  10\n",
       "36  10\n",
       "37  10\n",
       "38  10\n",
       "39   R\n",
       "40   R\n",
       "41   R\n",
       "42   R\n",
       "43   D\n",
       "44   D\n",
       "45   D\n",
       "46   V\n",
       "47   V\n",
       "48   V\n",
       "49   V"
      ],
      "text/html": [
       "<div>\n",
       "<style scoped>\n",
       "    .dataframe tbody tr th:only-of-type {\n",
       "        vertical-align: middle;\n",
       "    }\n",
       "\n",
       "    .dataframe tbody tr th {\n",
       "        vertical-align: top;\n",
       "    }\n",
       "\n",
       "    .dataframe thead th {\n",
       "        text-align: right;\n",
       "    }\n",
       "</style>\n",
       "<table border=\"1\" class=\"dataframe\">\n",
       "  <thead>\n",
       "    <tr style=\"text-align: right;\">\n",
       "      <th></th>\n",
       "      <th>1</th>\n",
       "    </tr>\n",
       "  </thead>\n",
       "  <tbody>\n",
       "    <tr>\n",
       "      <th>0</th>\n",
       "      <td>as</td>\n",
       "    </tr>\n",
       "    <tr>\n",
       "      <th>1</th>\n",
       "      <td>as</td>\n",
       "    </tr>\n",
       "    <tr>\n",
       "      <th>2</th>\n",
       "      <td>as</td>\n",
       "    </tr>\n",
       "    <tr>\n",
       "      <th>3</th>\n",
       "      <td>as</td>\n",
       "    </tr>\n",
       "    <tr>\n",
       "      <th>4</th>\n",
       "      <td>2</td>\n",
       "    </tr>\n",
       "    <tr>\n",
       "      <th>5</th>\n",
       "      <td>2</td>\n",
       "    </tr>\n",
       "    <tr>\n",
       "      <th>6</th>\n",
       "      <td>2</td>\n",
       "    </tr>\n",
       "    <tr>\n",
       "      <th>7</th>\n",
       "      <td>2</td>\n",
       "    </tr>\n",
       "    <tr>\n",
       "      <th>8</th>\n",
       "      <td>3</td>\n",
       "    </tr>\n",
       "    <tr>\n",
       "      <th>9</th>\n",
       "      <td>3</td>\n",
       "    </tr>\n",
       "    <tr>\n",
       "      <th>10</th>\n",
       "      <td>3</td>\n",
       "    </tr>\n",
       "    <tr>\n",
       "      <th>11</th>\n",
       "      <td>3</td>\n",
       "    </tr>\n",
       "    <tr>\n",
       "      <th>12</th>\n",
       "      <td>4</td>\n",
       "    </tr>\n",
       "    <tr>\n",
       "      <th>13</th>\n",
       "      <td>4</td>\n",
       "    </tr>\n",
       "    <tr>\n",
       "      <th>14</th>\n",
       "      <td>4</td>\n",
       "    </tr>\n",
       "    <tr>\n",
       "      <th>15</th>\n",
       "      <td>4</td>\n",
       "    </tr>\n",
       "    <tr>\n",
       "      <th>16</th>\n",
       "      <td>5</td>\n",
       "    </tr>\n",
       "    <tr>\n",
       "      <th>17</th>\n",
       "      <td>5</td>\n",
       "    </tr>\n",
       "    <tr>\n",
       "      <th>18</th>\n",
       "      <td>5</td>\n",
       "    </tr>\n",
       "    <tr>\n",
       "      <th>19</th>\n",
       "      <td>6</td>\n",
       "    </tr>\n",
       "    <tr>\n",
       "      <th>20</th>\n",
       "      <td>6</td>\n",
       "    </tr>\n",
       "    <tr>\n",
       "      <th>21</th>\n",
       "      <td>6</td>\n",
       "    </tr>\n",
       "    <tr>\n",
       "      <th>22</th>\n",
       "      <td>6</td>\n",
       "    </tr>\n",
       "    <tr>\n",
       "      <th>23</th>\n",
       "      <td>7</td>\n",
       "    </tr>\n",
       "    <tr>\n",
       "      <th>24</th>\n",
       "      <td>7</td>\n",
       "    </tr>\n",
       "    <tr>\n",
       "      <th>25</th>\n",
       "      <td>7</td>\n",
       "    </tr>\n",
       "    <tr>\n",
       "      <th>26</th>\n",
       "      <td>7</td>\n",
       "    </tr>\n",
       "    <tr>\n",
       "      <th>27</th>\n",
       "      <td>8</td>\n",
       "    </tr>\n",
       "    <tr>\n",
       "      <th>28</th>\n",
       "      <td>8</td>\n",
       "    </tr>\n",
       "    <tr>\n",
       "      <th>29</th>\n",
       "      <td>8</td>\n",
       "    </tr>\n",
       "    <tr>\n",
       "      <th>30</th>\n",
       "      <td>8</td>\n",
       "    </tr>\n",
       "    <tr>\n",
       "      <th>31</th>\n",
       "      <td>9</td>\n",
       "    </tr>\n",
       "    <tr>\n",
       "      <th>32</th>\n",
       "      <td>9</td>\n",
       "    </tr>\n",
       "    <tr>\n",
       "      <th>33</th>\n",
       "      <td>9</td>\n",
       "    </tr>\n",
       "    <tr>\n",
       "      <th>34</th>\n",
       "      <td>9</td>\n",
       "    </tr>\n",
       "    <tr>\n",
       "      <th>35</th>\n",
       "      <td>10</td>\n",
       "    </tr>\n",
       "    <tr>\n",
       "      <th>36</th>\n",
       "      <td>10</td>\n",
       "    </tr>\n",
       "    <tr>\n",
       "      <th>37</th>\n",
       "      <td>10</td>\n",
       "    </tr>\n",
       "    <tr>\n",
       "      <th>38</th>\n",
       "      <td>10</td>\n",
       "    </tr>\n",
       "    <tr>\n",
       "      <th>39</th>\n",
       "      <td>R</td>\n",
       "    </tr>\n",
       "    <tr>\n",
       "      <th>40</th>\n",
       "      <td>R</td>\n",
       "    </tr>\n",
       "    <tr>\n",
       "      <th>41</th>\n",
       "      <td>R</td>\n",
       "    </tr>\n",
       "    <tr>\n",
       "      <th>42</th>\n",
       "      <td>R</td>\n",
       "    </tr>\n",
       "    <tr>\n",
       "      <th>43</th>\n",
       "      <td>D</td>\n",
       "    </tr>\n",
       "    <tr>\n",
       "      <th>44</th>\n",
       "      <td>D</td>\n",
       "    </tr>\n",
       "    <tr>\n",
       "      <th>45</th>\n",
       "      <td>D</td>\n",
       "    </tr>\n",
       "    <tr>\n",
       "      <th>46</th>\n",
       "      <td>V</td>\n",
       "    </tr>\n",
       "    <tr>\n",
       "      <th>47</th>\n",
       "      <td>V</td>\n",
       "    </tr>\n",
       "    <tr>\n",
       "      <th>48</th>\n",
       "      <td>V</td>\n",
       "    </tr>\n",
       "    <tr>\n",
       "      <th>49</th>\n",
       "      <td>V</td>\n",
       "    </tr>\n",
       "  </tbody>\n",
       "</table>\n",
       "</div>"
      ]
     },
     "execution_count": 116,
     "metadata": {},
     "output_type": "execute_result"
    }
   ],
   "execution_count": 116
  },
  {
   "metadata": {
    "ExecuteTime": {
     "end_time": "2025-09-07T19:14:07.467975Z",
     "start_time": "2025-09-07T19:14:07.463420Z"
    }
   },
   "cell_type": "code",
   "source": [
    "# Filtrer les cartes perdantes (7, 8, 9, 10, Valet, Dame, Roi)\n",
    "res = tableau_de_50_cartes[ tableau_de_50_cartes[1].isin(['7','8','9','10','V','D','R']) ]\n",
    "print(res)\n"
   ],
   "id": "e6bf7a449f4feb9",
   "outputs": [
    {
     "name": "stdout",
     "output_type": "stream",
     "text": [
      "     1\n",
      "23   7\n",
      "24   7\n",
      "25   7\n",
      "26   7\n",
      "27   8\n",
      "28   8\n",
      "29   8\n",
      "30   8\n",
      "31   9\n",
      "32   9\n",
      "33   9\n",
      "34   9\n",
      "35  10\n",
      "36  10\n",
      "37  10\n",
      "38  10\n",
      "39   R\n",
      "40   R\n",
      "41   R\n",
      "42   R\n",
      "43   D\n",
      "44   D\n",
      "45   D\n",
      "46   V\n",
      "47   V\n",
      "48   V\n",
      "49   V\n"
     ]
    }
   ],
   "execution_count": 117
  },
  {
   "metadata": {
    "ExecuteTime": {
     "end_time": "2025-09-07T19:14:07.518582Z",
     "start_time": "2025-09-07T19:14:07.515237Z"
    }
   },
   "cell_type": "code",
   "source": [
    "# Probabilité brute force\n",
    "print(\"La probabilité de perdre aussitôt est de : \", len(res) / len(tableau_de_50_cartes))\n"
   ],
   "id": "b233be57bdfa5820",
   "outputs": [
    {
     "name": "stdout",
     "output_type": "stream",
     "text": [
      "La probabilité de perdre aussitôt est de :  0.54\n"
     ]
    }
   ],
   "execution_count": 118
  },
  {
   "metadata": {},
   "cell_type": "markdown",
   "source": "### Solution 3 Probabiliste",
   "id": "7965ffbaa857b1b6"
  }
 ],
 "metadata": {
  "kernelspec": {
   "display_name": "Python 3",
   "language": "python",
   "name": "python3"
  },
  "language_info": {
   "codemirror_mode": {
    "name": "ipython",
    "version": 2
   },
   "file_extension": ".py",
   "mimetype": "text/x-python",
   "name": "python",
   "nbconvert_exporter": "python",
   "pygments_lexer": "ipython2",
   "version": "2.7.6"
  }
 },
 "nbformat": 4,
 "nbformat_minor": 5
}
