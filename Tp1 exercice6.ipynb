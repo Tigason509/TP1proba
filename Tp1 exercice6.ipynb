{
 "cells": [
  {
   "metadata": {},
   "cell_type": "markdown",
   "source": [
    "# Exercice 6\n",
    "\n",
    "### Résolution de la question 06 du TD\n",
    "\n",
    "### Problème :\n",
    "\n",
    " Black Jack (règle simplifiée, pour un seul joueur) :\n",
    " • On utilise un seul jeu de 52 cartes. Chaque carte a une valeur :– de 2 à 10 : sa valeur faciale, ou nominale– une figure (valet, dame ou roi) : 10 points– un as : 1 ou 11 points, au gré du joueur.\n",
    "\n",
    " • La banque commence par distribuer deux cartes au joueur. Le joueur peut\n",
    " ensuite demander à la banque des cartes supplémentaires, une à une.\n",
    "\n",
    " • Il gagne s’il atteint exactement 21. Il perd s’il dépasse (strictement) 21. Il peut\n",
    " s’arrêter quand il veut.\n",
    "\n",
    " (a) Quelle est la probabilité que les deux premières cartes distribuées au joueur\n",
    " totalisent 21 points (blackjack) ?\n",
    "\n",
    " (b) Si les deux 1res cartes distribuées sont une dame et un 5. Quelle est la\n",
    " probabilité qu’il perde aussitôt s’il demande une 3e carte ?"
   ],
   "id": "76bfd8e13b7e44b1"
  },
  {
   "metadata": {},
   "cell_type": "markdown",
   "source": [
    "### Produire une solution de 3 manières différentes :\n",
    "\n",
    "1. De manière analytique (en utilisant des formules mathématiques).\n",
    "\n",
    "1. En utilisant une méthode de force brute (en énumérant toutes les combinaisons possibles de manière séquentielle).\n",
    "\n",
    "1. En utilisant une méthode probabiliste (en simulant un grand nombre de combinaisons de 4 lancers de dé de manière aléatoire)."
   ],
   "id": "bb7f41d1b5caa68a"
  },
  {
   "metadata": {},
   "cell_type": "markdown",
   "source": [
    "## Code\n",
    "### Import et configuration"
   ],
   "id": "cf452f50d02f5b81"
  },
  {
   "metadata": {
    "ExecuteTime": {
     "end_time": "2025-09-07T18:28:44.489358Z",
     "start_time": "2025-09-07T18:28:44.486330Z"
    }
   },
   "cell_type": "code",
   "source": [
    "import itertools\n",
    "\n",
    "import matplotlib.pyplot as plt\n",
    "import numpy as np\n",
    "import pandas as pd\n",
    "import seaborn as sns\n",
    "from scipy.special import comb, factorial as fac"
   ],
   "id": "1dbe4df4b4f46daf",
   "outputs": [],
   "execution_count": 7
  },
  {
   "metadata": {},
   "cell_type": "markdown",
   "source": [
    "### Solution 1 (analytique)\n",
    "\n",
    "A)  Quelle est la probabilité que les deux premières cartes distribuées au joueur\n",
    " totalisent 21 points (blackjack) ?"
   ],
   "id": "dd718ebfc93aab11"
  },
  {
   "metadata": {
    "ExecuteTime": {
     "end_time": "2025-09-07T18:28:44.512110Z",
     "start_time": "2025-09-07T18:28:44.508862Z"
    }
   },
   "cell_type": "code",
   "source": [
    "Nombre_de_cartes = 52\n",
    "cartes_distribués = 2\n",
    "nombre_as = 4\n",
    "nombre_val10 = 16\n",
    "combinaisons = math.comb(Nombre_de_cartes, cartes_distribués)\n",
    "combi_de21 = nombre_as * nombre_val10\n",
    "print(combi_de21 / combinaisons)\n"
   ],
   "id": "17fc084354a01d62",
   "outputs": [
    {
     "name": "stdout",
     "output_type": "stream",
     "text": [
      "0.048265460030165915\n"
     ]
    }
   ],
   "execution_count": 8
  },
  {
   "metadata": {},
   "cell_type": "markdown",
   "source": [
    "B) Si les deux 1res cartes distribuées sont une dame et un 5. Quelle est la\n",
    " probabilité qu’il perde aussitôt s’il demande une 3e carte ?"
   ],
   "id": "5cdd355711afdcbe"
  },
  {
   "metadata": {
    "ExecuteTime": {
     "end_time": "2025-09-07T18:28:44.529591Z",
     "start_time": "2025-09-07T18:28:44.526278Z"
    }
   },
   "cell_type": "code",
   "source": [
    "#Valeur = 15 on cherche la probabilité que la prochaine carte fait perdre le joueur\n",
    "cartes_restantes=50\n",
    "nmbr_prochaines_cartesperd=27\n",
    "tirage=1\n",
    "chance_perte=27/50\n",
    "print(chance_perte)"
   ],
   "id": "d8e8f225e5d63d9f",
   "outputs": [
    {
     "name": "stdout",
     "output_type": "stream",
     "text": [
      "0.54\n"
     ]
    }
   ],
   "execution_count": 9
  },
  {
   "metadata": {},
   "cell_type": "markdown",
   "source": "### Solution 2 ( Brute force )",
   "id": "f89c0ae731ca5da1"
  },
  {
   "metadata": {
    "ExecuteTime": {
     "end_time": "2025-09-07T18:28:44.550233Z",
     "start_time": "2025-09-07T18:28:44.546518Z"
    }
   },
   "cell_type": "code",
   "source": [
    "Cartes = ['as', '2', '3', '4', '5', '6', '7', '8', '9', '10', 'R', 'D', 'V'] # Créer les rangs\n",
    "CARTES = [coul for coul in Cartes for _ in range(4)] # Créer 4 cartes de chaque rang\n",
    "print(CARTES)"
   ],
   "id": "505c5ad13cfb5244",
   "outputs": [
    {
     "name": "stdout",
     "output_type": "stream",
     "text": [
      "['as', 'as', 'as', 'as', '2', '2', '2', '2', '3', '3', '3', '3', '4', '4', '4', '4', '5', '5', '5', '5', '6', '6', '6', '6', '7', '7', '7', '7', '8', '8', '8', '8', '9', '9', '9', '9', '10', '10', '10', '10', 'R', 'R', 'R', 'R', 'D', 'D', 'D', 'D', 'V', 'V', 'V', 'V']\n"
     ]
    }
   ],
   "execution_count": 10
  },
  {
   "metadata": {
    "ExecuteTime": {
     "end_time": "2025-09-07T18:28:44.569682Z",
     "start_time": "2025-09-07T18:28:44.556720Z"
    }
   },
   "cell_type": "code",
   "source": [
    "Cartes_rep = pd.DataFrame(itertools.combinations(CARTES, 2)) # Lister tous les cas possibles et les mettre dans un tableau\n",
    "Cartes_rep.columns = Cartes_rep. columns + 1 #Avancer l'indice de 0 à 1\n",
    "Cartes_rep # Afficher toutes les possibilités"
   ],
   "id": "df8f059dd21bb0f4",
   "outputs": [
    {
     "data": {
      "text/plain": [
       "       1   2\n",
       "0     as  as\n",
       "1     as  as\n",
       "2     as  as\n",
       "3     as   2\n",
       "4     as   2\n",
       "...   ..  ..\n",
       "1321   V   V\n",
       "1322   V   V\n",
       "1323   V   V\n",
       "1324   V   V\n",
       "1325   V   V\n",
       "\n",
       "[1326 rows x 2 columns]"
      ],
      "text/html": [
       "<div>\n",
       "<style scoped>\n",
       "    .dataframe tbody tr th:only-of-type {\n",
       "        vertical-align: middle;\n",
       "    }\n",
       "\n",
       "    .dataframe tbody tr th {\n",
       "        vertical-align: top;\n",
       "    }\n",
       "\n",
       "    .dataframe thead th {\n",
       "        text-align: right;\n",
       "    }\n",
       "</style>\n",
       "<table border=\"1\" class=\"dataframe\">\n",
       "  <thead>\n",
       "    <tr style=\"text-align: right;\">\n",
       "      <th></th>\n",
       "      <th>1</th>\n",
       "      <th>2</th>\n",
       "    </tr>\n",
       "  </thead>\n",
       "  <tbody>\n",
       "    <tr>\n",
       "      <th>0</th>\n",
       "      <td>as</td>\n",
       "      <td>as</td>\n",
       "    </tr>\n",
       "    <tr>\n",
       "      <th>1</th>\n",
       "      <td>as</td>\n",
       "      <td>as</td>\n",
       "    </tr>\n",
       "    <tr>\n",
       "      <th>2</th>\n",
       "      <td>as</td>\n",
       "      <td>as</td>\n",
       "    </tr>\n",
       "    <tr>\n",
       "      <th>3</th>\n",
       "      <td>as</td>\n",
       "      <td>2</td>\n",
       "    </tr>\n",
       "    <tr>\n",
       "      <th>4</th>\n",
       "      <td>as</td>\n",
       "      <td>2</td>\n",
       "    </tr>\n",
       "    <tr>\n",
       "      <th>...</th>\n",
       "      <td>...</td>\n",
       "      <td>...</td>\n",
       "    </tr>\n",
       "    <tr>\n",
       "      <th>1321</th>\n",
       "      <td>V</td>\n",
       "      <td>V</td>\n",
       "    </tr>\n",
       "    <tr>\n",
       "      <th>1322</th>\n",
       "      <td>V</td>\n",
       "      <td>V</td>\n",
       "    </tr>\n",
       "    <tr>\n",
       "      <th>1323</th>\n",
       "      <td>V</td>\n",
       "      <td>V</td>\n",
       "    </tr>\n",
       "    <tr>\n",
       "      <th>1324</th>\n",
       "      <td>V</td>\n",
       "      <td>V</td>\n",
       "    </tr>\n",
       "    <tr>\n",
       "      <th>1325</th>\n",
       "      <td>V</td>\n",
       "      <td>V</td>\n",
       "    </tr>\n",
       "  </tbody>\n",
       "</table>\n",
       "<p>1326 rows × 2 columns</p>\n",
       "</div>"
      ]
     },
     "execution_count": 11,
     "metadata": {},
     "output_type": "execute_result"
    }
   ],
   "execution_count": 11
  },
  {
   "metadata": {
    "ExecuteTime": {
     "end_time": "2025-09-07T18:28:44.611131Z",
     "start_time": "2025-09-07T18:28:44.603769Z"
    }
   },
   "cell_type": "code",
   "source": [
    "res = Cartes_rep[(Cartes_rep[1] == 'as') &  (Cartes_rep[2].isin(['D', 'V', 'R', '10']))]\n",
    "print(res)"
   ],
   "id": "e47ac9196418ba5c",
   "outputs": [
    {
     "name": "stdout",
     "output_type": "stream",
     "text": [
      "      1   2\n",
      "35   as  10\n",
      "36   as  10\n",
      "37   as  10\n",
      "38   as  10\n",
      "39   as   R\n",
      "..   ..  ..\n",
      "193  as   D\n",
      "194  as   V\n",
      "195  as   V\n",
      "196  as   V\n",
      "197  as   V\n",
      "\n",
      "[64 rows x 2 columns]\n"
     ]
    }
   ],
   "execution_count": 12
  },
  {
   "metadata": {
    "ExecuteTime": {
     "end_time": "2025-09-07T18:28:44.671067Z",
     "start_time": "2025-09-07T18:28:44.667864Z"
    }
   },
   "cell_type": "code",
   "source": "print(\"La probabilité de gagner dès les deux premières cartes est de : \",len(res) / len(Cartes_rep))",
   "id": "2ab2ba51a804f127",
   "outputs": [
    {
     "name": "stdout",
     "output_type": "stream",
     "text": [
      "La probabilité de gagner dès les deux premières cartes est de :  0.048265460030165915\n"
     ]
    }
   ],
   "execution_count": 13
  },
  {
   "metadata": {
    "ExecuteTime": {
     "end_time": "2025-09-07T18:28:44.746629Z",
     "start_time": "2025-09-07T18:28:44.743346Z"
    }
   },
   "cell_type": "code",
   "source": [
    "def gagner_2_cartes (dt: pd.DataFrame, nb_crt: int) :\n",
    "    Cartes_rep.columns = Cartes_rep. columns + 1 #Avancer l'indice de 0 à 1\n",
    "    Cartes_rep # Afficher toutes les possibilités\n",
    "    res = Cartes_rep[(Cartes_rep[1] == 'as') &  (Cartes_rep[2].isin(['D', 'V', 'R', '10']))]\n",
    "    return(res)"
   ],
   "id": "bd422ca6f642b408",
   "outputs": [],
   "execution_count": 14
  },
  {
   "metadata": {
    "ExecuteTime": {
     "end_time": "2025-09-07T18:28:44.804582Z",
     "start_time": "2025-09-07T18:28:44.796948Z"
    }
   },
   "cell_type": "code",
   "source": [
    "Cartes_rep = pd.DataFrame(itertools.combinations(CARTES, 2))\n",
    "gagner_2_cartes(Cartes_rep, nb_crt = 2)"
   ],
   "id": "2035d2ece1e522c7",
   "outputs": [
    {
     "data": {
      "text/plain": [
       "      1   2\n",
       "35   as  10\n",
       "36   as  10\n",
       "37   as  10\n",
       "38   as  10\n",
       "39   as   R\n",
       "..   ..  ..\n",
       "193  as   D\n",
       "194  as   V\n",
       "195  as   V\n",
       "196  as   V\n",
       "197  as   V\n",
       "\n",
       "[64 rows x 2 columns]"
      ],
      "text/html": [
       "<div>\n",
       "<style scoped>\n",
       "    .dataframe tbody tr th:only-of-type {\n",
       "        vertical-align: middle;\n",
       "    }\n",
       "\n",
       "    .dataframe tbody tr th {\n",
       "        vertical-align: top;\n",
       "    }\n",
       "\n",
       "    .dataframe thead th {\n",
       "        text-align: right;\n",
       "    }\n",
       "</style>\n",
       "<table border=\"1\" class=\"dataframe\">\n",
       "  <thead>\n",
       "    <tr style=\"text-align: right;\">\n",
       "      <th></th>\n",
       "      <th>1</th>\n",
       "      <th>2</th>\n",
       "    </tr>\n",
       "  </thead>\n",
       "  <tbody>\n",
       "    <tr>\n",
       "      <th>35</th>\n",
       "      <td>as</td>\n",
       "      <td>10</td>\n",
       "    </tr>\n",
       "    <tr>\n",
       "      <th>36</th>\n",
       "      <td>as</td>\n",
       "      <td>10</td>\n",
       "    </tr>\n",
       "    <tr>\n",
       "      <th>37</th>\n",
       "      <td>as</td>\n",
       "      <td>10</td>\n",
       "    </tr>\n",
       "    <tr>\n",
       "      <th>38</th>\n",
       "      <td>as</td>\n",
       "      <td>10</td>\n",
       "    </tr>\n",
       "    <tr>\n",
       "      <th>39</th>\n",
       "      <td>as</td>\n",
       "      <td>R</td>\n",
       "    </tr>\n",
       "    <tr>\n",
       "      <th>...</th>\n",
       "      <td>...</td>\n",
       "      <td>...</td>\n",
       "    </tr>\n",
       "    <tr>\n",
       "      <th>193</th>\n",
       "      <td>as</td>\n",
       "      <td>D</td>\n",
       "    </tr>\n",
       "    <tr>\n",
       "      <th>194</th>\n",
       "      <td>as</td>\n",
       "      <td>V</td>\n",
       "    </tr>\n",
       "    <tr>\n",
       "      <th>195</th>\n",
       "      <td>as</td>\n",
       "      <td>V</td>\n",
       "    </tr>\n",
       "    <tr>\n",
       "      <th>196</th>\n",
       "      <td>as</td>\n",
       "      <td>V</td>\n",
       "    </tr>\n",
       "    <tr>\n",
       "      <th>197</th>\n",
       "      <td>as</td>\n",
       "      <td>V</td>\n",
       "    </tr>\n",
       "  </tbody>\n",
       "</table>\n",
       "<p>64 rows × 2 columns</p>\n",
       "</div>"
      ]
     },
     "execution_count": 15,
     "metadata": {},
     "output_type": "execute_result"
    }
   ],
   "execution_count": 15
  },
  {
   "metadata": {
    "ExecuteTime": {
     "end_time": "2025-09-07T18:28:45.047047Z",
     "start_time": "2025-09-07T18:28:45.044401Z"
    }
   },
   "cell_type": "code",
   "source": "",
   "id": "5766e6cf1ef8aec4",
   "outputs": [],
   "execution_count": null
  }
 ],
 "metadata": {
  "kernelspec": {
   "display_name": "Python 3",
   "language": "python",
   "name": "python3"
  },
  "language_info": {
   "codemirror_mode": {
    "name": "ipython",
    "version": 2
   },
   "file_extension": ".py",
   "mimetype": "text/x-python",
   "name": "python",
   "nbconvert_exporter": "python",
   "pygments_lexer": "ipython2",
   "version": "2.7.6"
  }
 },
 "nbformat": 4,
 "nbformat_minor": 5
}
